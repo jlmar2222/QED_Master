{
  "cells": [
    {
      "cell_type": "markdown",
      "metadata": {
        "id": "3sCXUlrzsVSO"
      },
      "source": [
        "* Please make a copy of this notebook and replace \"LastName\" and \"FirstName\" in the title with your own names. Also, write your name in the following text block.\n",
        "\n",
        "* Then, fill in the file with your code and comments on the results.\n",
        "\n",
        "* Finally, share your completed work with me by sending the link via email as your final submission, no later than **January 6th, 2025**.\n",
        "\n",
        "* You can contact me if you have any questions. If necessary, we can meet either face-to-face or via online video calls to resolve them.\n",
        "\n",
        "---"
      ]
    },
    {
      "cell_type": "markdown",
      "metadata": {
        "id": "VV3W-LfmuYKH"
      },
      "source": [
        "**Last Name:** José Luis\n",
        "\n",
        "\n",
        "**First Name:** Martínez Martínez\n",
        "\n",
        "\n",
        "---"
      ]
    },
    {
      "cell_type": "markdown",
      "metadata": {
        "id": "Nvmh06fkTI8E"
      },
      "source": [
        "# Problem 1: Prediction\n",
        "\n",
        "\n"
      ]
    },
    {
      "cell_type": "code",
      "execution_count": null,
      "metadata": {
        "id": "VeT9K4qkDMiM"
      },
      "outputs": [],
      "source": [
        "# Libraries that will be used in this part 1.\n",
        "\n",
        "\n",
        "import matplotlib.pyplot as plt\n",
        "import seaborn as sns\n",
        "import numpy as np\n",
        "import pandas as pd\n",
        "\n",
        "from IPython.core.display import display, HTML # beautify prints\n",
        "from tabulate import tabulate # beautify prints\n",
        "\n",
        "from sklearn.model_selection import train_test_split # splitting DB\n",
        "\n",
        "from sklearn.linear_model import LinearRegression # Linear Regression (OLS)\n",
        "\n",
        "from sklearn.metrics import mean_absolute_error, root_mean_squared_error # Loss FunctionS\n",
        "\n",
        "from sklearn.preprocessing import PolynomialFeatures, StandardScaler #Pre-processing\n",
        "from sklearn.pipeline import Pipeline #Pre-Processing\n",
        "\n",
        "from sklearn.linear_model import Lasso #LASSO model\n",
        "\n",
        "from sklearn.linear_model import Ridge #Ridge model\n",
        "\n",
        "from sklearn.model_selection import GridSearchCV    # C-V\n",
        "from sklearn.model_selection import KFold           # k-fold CV\n",
        "from sklearn.model_selection import cross_val_score # C-V\n",
        "from sklearn.linear_model import LassoCV # CV in LASSO\n",
        "\n",
        "from sklearn import tree #Randome tree\n",
        "\n",
        "from sklearn.ensemble import RandomForestRegressor #Random Forest\n",
        "\n",
        "from statsmodels.stats.outliers_influence import variance_inflation_factor #VIF\n",
        "from statsmodels.tools.tools import add_constant #VIF\n",
        "\n",
        "# !pip install seaborn # for graphs if needed"
      ]
    },
    {
      "cell_type": "markdown",
      "metadata": {
        "id": "A_75uM29ChpI"
      },
      "source": [
        "\n",
        "## DB elicitation\n",
        "\n",
        "The first part consists of selecting a database, cleaning it (performing any pre-processing if convenient), and dividing our final sample into training and test data."
      ]
    },
    {
      "cell_type": "code",
      "execution_count": null,
      "metadata": {
        "id": "-szv296bqaHF"
      },
      "outputs": [],
      "source": [
        "# import db\n",
        "censu = pd.read_csv('calif_penn_2011_2.csv')"
      ]
    },
    {
      "cell_type": "code",
      "execution_count": null,
      "metadata": {
        "colab": {
          "base_uri": "https://localhost:8080/"
        },
        "id": "FtEQocklrvao",
        "outputId": "5db701d5-4b59-4278-8219-f184be660e79"
      },
      "outputs": [
        {
          "output_type": "stream",
          "name": "stdout",
          "text": [
            "+-----------------------------+---------+------------------------------------------------------------+----------+------+---------------+\n",
            "|           Column            |  Dtype  |                        Description                         | Non-Null | Null | Null Prop.(%) |\n",
            "+-----------------------------+---------+------------------------------------------------------------+----------+------+---------------+\n",
            "|             X1              |  int64  |                     observation number                     |   8456   |  0   |      0.0      |\n",
            "|           GEO.id2           |  int64  |                     geographic ID code                     |   8456   |  0   |      0.0      |\n",
            "|           STATEFP           |  int64  |                     code for the state                     |   8456   |  0   |      0.0      |\n",
            "|          COUNTYFP           |  int64  |                    code for the county                     |   8456   |  0   |      0.0      |\n",
            "|           TRACTCE           |  int64  |                     code for the tract                     |   8456   |  0   |      0.0      |\n",
            "|         POPULATION          |  int64  |                  population of the tract                   |   8456   |  0   |      0.0      |\n",
            "|          LATITUDE           | float64 |                   latitude of the tract                    |   8456   |  0   |      0.0      |\n",
            "|          LONGITUDE          | float64 |                   longitude of the tract                   |   8456   |  0   |      0.0      |\n",
            "|      GEO.display.label      | object  |                     name of the tract                      |   8456   |  0   |      0.0      |\n",
            "|     Median_house_value      | float64 |       median value of the housing units in the tract       |   7974   | 482  |      5.7      |\n",
            "|         Total_units         |  int64  |        total number of units (houses) in the tract         |   8456   |  0   |      0.0      |\n",
            "|        Vacant_units         |  int64  |                   number of vacant units                   |   8456   |  0   |      0.0      |\n",
            "|        Median_rooms         | float64 |              median number of rooms per unit               |   8341   | 115  |     1.36      |\n",
            "| Mean_household_size_owners  | float64 |  mean number of people per household which owns its home   |   8287   | 169  |      2.0      |\n",
            "| Mean_household_size_renters | float64 |        mean number of people per renting household         |   8338   | 118  |      1.4      |\n",
            "|     Built_2005_or_later     | float64 |     percentage of housing units built in 2005 or later     |   8380   |  76  |      0.9      |\n",
            "|     Built_2000_to_2004      | float64 |                     idem in 2000–2004                      |   8380   |  76  |      0.9      |\n",
            "|         Built_1990s         | float64 |                     idem in the 1990s                      |   8380   |  76  |      0.9      |\n",
            "|         Built_1980s         | float64 |                     idem in the 1980s                      |   8380   |  76  |      0.9      |\n",
            "|         Built_1970s         | float64 |                     idem in the 1970s                      |   8380   |  76  |      0.9      |\n",
            "|         Built_1960s         | float64 |                     idem in the 1960s                      |   8380   |  76  |      0.9      |\n",
            "|         Built_1950s         | float64 |                     idem in the 1950s                      |   8380   |  76  |      0.9      |\n",
            "|         Built_1940s         | float64 |                     idem in the 1940s                      |   8380   |  76  |      0.9      |\n",
            "|    Built_1939_or_earlier    | float64 |                  idem in 1939 or earlier                   |   8380   |  76  |      0.9      |\n",
            "|         Bedrooms_0          | float64 |        percentage of housing units with 0 bedrooms         |   8380   |  76  |      0.9      |\n",
            "|         Bedrooms_1          | float64 |                    idem with 1 bedroom                     |   8380   |  76  |      0.9      |\n",
            "|         Bedrooms_2          | float64 |                    idem with 2 bedrooms                    |   8380   |  76  |      0.9      |\n",
            "|         Bedrooms_3          | float64 |                    idem with 3 bedrooms                    |   8380   |  76  |      0.9      |\n",
            "|         Bedrooms_4          | float64 |                    idem with 4 bedrooms                    |   8380   |  76  |      0.9      |\n",
            "|     Bedrooms_5_or_more      | float64 |                idem with 5 or more bedrooms                |   8380   |  76  |      0.9      |\n",
            "|           Owners            | float64 |       percentage of households which own their home        |   8379   |  77  |     0.91      |\n",
            "|           Renters           | float64 |            percentage of households which rent             |   8379   |  77  |     0.91      |\n",
            "|   Median_household_income   | float64 | median income of households (in dollars, from all sources) |   8364   |  92  |     1.09      |\n",
            "|    Mean_household_income    | float64 |  mean income of households (in dollars, from all sources)  |   8358   |  98  |     1.16      |\n",
            "+-----------------------------+---------+------------------------------------------------------------+----------+------+---------------+\n"
          ]
        }
      ],
      "source": [
        "# Generating table of DB features\n",
        "\n",
        "  # Read the descriptions from the file\n",
        "with open('calif_penn_2011.txt', 'r') as file:\n",
        "    lines = file.readlines()\n",
        "\n",
        "  # Process the descriptions to extract column names and their explanations\n",
        "descriptions = []\n",
        "for line in lines:\n",
        "    if '\"' in line:  # Filter only lines with relevant information\n",
        "        column, desc = line.split('\"')[1], line.split('\"')[2].strip()\n",
        "        descriptions.append((column, desc))\n",
        "\n",
        "  # Create a DataFrame with column names and data types from censu.info()\n",
        "censu_info = pd.DataFrame({\n",
        "    'Column': censu.columns,\n",
        "    'Dtype': [str(censu[col].dtype) for col in censu.columns]  # Data types\n",
        "})\n",
        "\n",
        "  # Convert the descriptions into a DataFrame\n",
        "descriptions_df = pd.DataFrame(descriptions, columns=['Column', 'Description'])\n",
        "\n",
        "  # Merge both DataFrames on the column names\n",
        "combined_info = pd.merge(censu_info, descriptions_df, on='Column', how='left')\n",
        "\n",
        "\n",
        "  # Adding number of null values over total cells\n",
        "\n",
        "null_counts = censu.isnull().sum()  # Total nulls per column\n",
        "non_null_counts = censu.notnull().sum()  # Total non-nulls per column\n",
        "null_proportions = (censu.isnull().mean() * 100).round(2)  # Percentage of nulls\n",
        "\n",
        "  # Add these values to the combined_info DataFrame\n",
        "combined_info['Non-Null'] = non_null_counts.values\n",
        "combined_info['Null'] = null_counts.values\n",
        "combined_info['Null Prop.(%)'] = null_proportions.values\n",
        "\n",
        "  # Making print more beautifull\n",
        "print(tabulate(combined_info, headers=\"keys\", tablefmt=\"pretty\",showindex=False))"
      ]
    },
    {
      "cell_type": "code",
      "execution_count": null,
      "metadata": {
        "id": "XiJc6tOBvU-B"
      },
      "outputs": [],
      "source": [
        "# Columns to drop from DB\n",
        "\n",
        "columns_to_drop1 = ['X1','GEO.id2','STATEFP','COUNTYFP','TRACTCE','GEO.display.label'] # Due to its lack of predicting power\n",
        "columns_to_drop2 = ['Built_1939_or_earlier','Bedrooms_0','Renters','Mean_household_income'] # Due to high/perfect colinearity problems\n",
        "\n",
        "columns_to_drop = columns_to_drop1 + columns_to_drop2"
      ]
    },
    {
      "cell_type": "code",
      "execution_count": null,
      "metadata": {
        "colab": {
          "base_uri": "https://localhost:8080/"
        },
        "id": "ZXVxFKwItHsx",
        "outputId": "34ce731a-35ea-4e3d-c4ae-0c18ac883673"
      },
      "outputs": [
        {
          "output_type": "stream",
          "name": "stdout",
          "text": [
            "+-----------------------------+---------+------------------------------------------------------------+----------+------+---------------+\n",
            "|           Column            |  Dtype  |                        Description                         | Non-Null | Null | Null Prop.(%) |\n",
            "+-----------------------------+---------+------------------------------------------------------------+----------+------+---------------+\n",
            "|         POPULATION          |  int64  |                  population of the tract                   |   8456   |  0   |      0.0      |\n",
            "|          LATITUDE           | float64 |                   latitude of the tract                    |   8456   |  0   |      0.0      |\n",
            "|          LONGITUDE          | float64 |                   longitude of the tract                   |   8456   |  0   |      0.0      |\n",
            "|     Median_house_value      | float64 |       median value of the housing units in the tract       |   7974   | 482  |      5.7      |\n",
            "|         Total_units         |  int64  |        total number of units (houses) in the tract         |   8456   |  0   |      0.0      |\n",
            "|        Vacant_units         |  int64  |                   number of vacant units                   |   8456   |  0   |      0.0      |\n",
            "|        Median_rooms         | float64 |              median number of rooms per unit               |   8341   | 115  |     1.36      |\n",
            "| Mean_household_size_owners  | float64 |  mean number of people per household which owns its home   |   8287   | 169  |      2.0      |\n",
            "| Mean_household_size_renters | float64 |        mean number of people per renting household         |   8338   | 118  |      1.4      |\n",
            "|     Built_2005_or_later     | float64 |     percentage of housing units built in 2005 or later     |   8380   |  76  |      0.9      |\n",
            "|     Built_2000_to_2004      | float64 |                     idem in 2000–2004                      |   8380   |  76  |      0.9      |\n",
            "|         Built_1990s         | float64 |                     idem in the 1990s                      |   8380   |  76  |      0.9      |\n",
            "|         Built_1980s         | float64 |                     idem in the 1980s                      |   8380   |  76  |      0.9      |\n",
            "|         Built_1970s         | float64 |                     idem in the 1970s                      |   8380   |  76  |      0.9      |\n",
            "|         Built_1960s         | float64 |                     idem in the 1960s                      |   8380   |  76  |      0.9      |\n",
            "|         Built_1950s         | float64 |                     idem in the 1950s                      |   8380   |  76  |      0.9      |\n",
            "|         Built_1940s         | float64 |                     idem in the 1940s                      |   8380   |  76  |      0.9      |\n",
            "|         Bedrooms_1          | float64 |                    idem with 1 bedroom                     |   8380   |  76  |      0.9      |\n",
            "|         Bedrooms_2          | float64 |                    idem with 2 bedrooms                    |   8380   |  76  |      0.9      |\n",
            "|         Bedrooms_3          | float64 |                    idem with 3 bedrooms                    |   8380   |  76  |      0.9      |\n",
            "|         Bedrooms_4          | float64 |                    idem with 4 bedrooms                    |   8380   |  76  |      0.9      |\n",
            "|     Bedrooms_5_or_more      | float64 |                idem with 5 or more bedrooms                |   8380   |  76  |      0.9      |\n",
            "|           Owners            | float64 |       percentage of households which own their home        |   8379   |  77  |     0.91      |\n",
            "|   Median_household_income   | float64 | median income of households (in dollars, from all sources) |   8364   |  92  |     1.09      |\n",
            "+-----------------------------+---------+------------------------------------------------------------+----------+------+---------------+\n"
          ]
        }
      ],
      "source": [
        "# Final DB\n",
        "fcensu = censu.drop(columns=columns_to_drop)\n",
        "fcombined_info = combined_info[~combined_info['Column'].isin(columns_to_drop)].reset_index(drop=True)\n",
        "\n",
        "print(tabulate(fcombined_info, headers=\"keys\", tablefmt=\"pretty\",showindex=False))"
      ]
    },
    {
      "cell_type": "code",
      "execution_count": null,
      "metadata": {
        "id": "D8H5JAph-Wz9"
      },
      "outputs": [],
      "source": [
        "# Dealing with NUll data.\n",
        "\n",
        "  # Dropping null data rows for Median house value (Dependent Variable)\n",
        "fcensu.dropna(subset=['Median_house_value'],inplace=True)\n",
        "  # Implacing median values for the rest of variables null values (Independent Variables)\n",
        "fcensu.fillna(fcensu.median(), inplace=True)\n"
      ]
    },
    {
      "cell_type": "code",
      "execution_count": null,
      "metadata": {
        "colab": {
          "base_uri": "https://localhost:8080/"
        },
        "id": "KeYYbYLMLemQ",
        "outputId": "5848b949-0e2a-4bcb-c701-2b7ff80426e5"
      },
      "outputs": [
        {
          "output_type": "stream",
          "name": "stdout",
          "text": [
            "Original dataset size: 8456\n",
            "Cleaned dataset size: 7974\n",
            "Percentage of data retained: 94.30%\n",
            "Percentage of data lost: 5.70%\n"
          ]
        }
      ],
      "source": [
        "# Computting final impact on our original DB\n",
        "\n",
        "original_size = censu.shape[0]\n",
        "cleaned_size = fcensu.shape[0]\n",
        "\n",
        "print(f\"Original dataset size: {original_size}\")\n",
        "print(f\"Cleaned dataset size: {cleaned_size}\")\n",
        "print(f\"Percentage of data retained: {(cleaned_size / original_size) * 100:.2f}%\")\n",
        "print(f\"Percentage of data lost: {((original_size - cleaned_size) / original_size) * 100:.2f}%\")"
      ]
    },
    {
      "cell_type": "code",
      "execution_count": null,
      "metadata": {
        "colab": {
          "base_uri": "https://localhost:8080/"
        },
        "id": "lFGri0DSMkPA",
        "outputId": "3870d631-7f7f-4dec-935f-ca941a187854"
      },
      "outputs": [
        {
          "output_type": "stream",
          "name": "stdout",
          "text": [
            "Training set size: 6379\n",
            "Testing set size: 1595\n"
          ]
        }
      ],
      "source": [
        "# Finally split the DB into training and test sets\n",
        "\n",
        "target = \"Median_house_value\" # Dependent variable\n",
        "predictors = [                # Independent variables\n",
        "    \"POPULATION\", \"LATITUDE\", \"LONGITUDE\", \"Total_units\", \"Vacant_units\",\n",
        "    \"Median_rooms\", \"Mean_household_size_owners\", \"Mean_household_size_renters\",\n",
        "    \"Built_2005_or_later\", \"Built_2000_to_2004\", \"Built_1990s\", \"Built_1980s\",\n",
        "    \"Built_1970s\", \"Built_1960s\", \"Built_1950s\", \"Built_1940s\", \"Bedrooms_1\", \"Bedrooms_2\",\n",
        "    \"Bedrooms_3\", \"Bedrooms_4\", \"Bedrooms_5_or_more\", \"Owners\",\n",
        "    \"Median_household_income\"\n",
        "    ]\n",
        "\n",
        "\n",
        "y = fcensu[target]\n",
        "X = fcensu[predictors]\n",
        "\n",
        "\n",
        "# 80-20 split for training and testing\n",
        "X_train, X_test, y_train, y_test = train_test_split(X, y, test_size=0.2, random_state=42)\n",
        "\n",
        "print(f\"Training set size: {X_train.shape[0]}\")\n",
        "print(f\"Testing set size: {X_test.shape[0]}\")"
      ]
    },
    {
      "cell_type": "markdown",
      "metadata": {
        "id": "3di8X0GBJXUY"
      },
      "source": [
        "### Coments on this part:\n",
        "\n",
        "About variable elicitation:\n",
        "\n",
        "* We believe variables related to inner encoding systems, such as IDs or other types of codes, have little power to predict how the target variable will perform, beyond the impact they have through the features they represent (e.g., location codes have an impact due to their representation of location, not their inherent meaning).\n",
        "\n",
        "* Additionally, we drop variables that could lead to perfect or high collinearity. The most evident examples are percentage variables (if we don't remove one, they sum up to 100, so we can isolate one based on the rest). Similarly, we remove the mean household income because it is likely highly correlated with the median household income.\n",
        "\n",
        "About null data management elicitation:\n",
        "\n",
        "* First, we remove all rows where the target variable is null. This is because introducing values for the target variable might generate noise when training the model. While using the mean or median of the entire sample might not create significant noise (as we would essentially regress to the mean and gain the additional power of a larger sample; but this I'm not sure).\n",
        "\n",
        "* For the remaining rows with null data, we decided to fill the missing values with the median of the column. Why use the median instead of the mean? Because the median is more robust to outliers, and housing data tends to have many of these.\n",
        "\n",
        "\n"
      ]
    },
    {
      "cell_type": "markdown",
      "metadata": {
        "id": "v1ZJGe4OwSJ_"
      },
      "source": [
        "## Parametric Approach"
      ]
    },
    {
      "cell_type": "markdown",
      "metadata": {
        "id": "tgFn75lkPW8h"
      },
      "source": [
        "### OLS:"
      ]
    },
    {
      "cell_type": "markdown",
      "metadata": {
        "id": "JFguqsdtXjmF"
      },
      "source": [
        "#### Up to degree 1"
      ]
    },
    {
      "cell_type": "code",
      "execution_count": null,
      "metadata": {
        "id": "AFNLYgKXxIhI"
      },
      "outputs": [],
      "source": [
        "lm = LinearRegression()      # creates a model object\n",
        "lm.fit(X_train, y_train)     # estimates (trains) in training set\n",
        "# Metrics\n",
        "y_test_pred_OLS = lm.predict(X_test)"
      ]
    },
    {
      "cell_type": "code",
      "execution_count": null,
      "metadata": {
        "colab": {
          "base_uri": "https://localhost:8080/"
        },
        "id": "QOMh0XCYaWKW",
        "outputId": "6b118251-e29d-43f6-e62f-d600fd3cf9ab"
      },
      "outputs": [
        {
          "output_type": "stream",
          "name": "stdout",
          "text": [
            "+-----------------------------+-------------+\n",
            "|          Variables          | Coeficients |\n",
            "+-----------------------------+-------------+\n",
            "|                             |             |\n",
            "|          Intercept          | 699517.6618 |\n",
            "|                             |             |\n",
            "|         POPULATION          |  -16.8926   |\n",
            "|          LATITUDE           | -11798.8191 |\n",
            "|          LONGITUDE          | -3525.4912  |\n",
            "|         Total_units         |   62.5617   |\n",
            "|        Vacant_units         |  -47.1553   |\n",
            "|        Median_rooms         | -15358.0309 |\n",
            "| Mean_household_size_owners  | -4113.6057  |\n",
            "| Mean_household_size_renters | -22395.9225 |\n",
            "|     Built_2005_or_later     | -3348.0944  |\n",
            "|     Built_2000_to_2004      |  -2178.972  |\n",
            "|         Built_1990s         | -1903.6487  |\n",
            "|         Built_1980s         |  -1775.874  |\n",
            "|         Built_1970s         | -1138.6028  |\n",
            "|         Built_1960s         |  -119.8602  |\n",
            "|         Built_1950s         |  -533.9052  |\n",
            "|         Built_1940s         |  213.4557   |\n",
            "|         Bedrooms_1          | -3727.3856  |\n",
            "|         Bedrooms_2          | -3500.8763  |\n",
            "|         Bedrooms_3          | -3621.0661  |\n",
            "|         Bedrooms_4          | -2591.7723  |\n",
            "|     Bedrooms_5_or_more      |  -647.1749  |\n",
            "|           Owners            | -1919.3865  |\n",
            "|   Median_household_income   |   6.0208    |\n",
            "+-----------------------------+-------------+\n",
            "\n",
            " Metrics:\n",
            "\n",
            "MAE= 81680.317284424\n",
            "RMSE= 108423.86250468585\n"
          ]
        }
      ],
      "source": [
        "# Showing Results\n",
        "\n",
        "intercept = lm.intercept_.round(4)\n",
        "coef = lm.coef_.round(4)\n",
        "\n",
        "tabla_coeficients = pd.DataFrame({\n",
        "    \"Variables\": [''] +[\"Intercept\"] +[''] + predictors,\n",
        "    \"Coeficients\":[''] + [intercept] + [''] + list(coef)\n",
        "})\n",
        "\n",
        "MAE_OLS = mean_absolute_error(y_test, y_test_pred_OLS)\n",
        "RMSE_OLS = root_mean_squared_error(y_test, y_test_pred_OLS)\n",
        "\n",
        "print(tabulate(tabla_coeficients, headers=\"keys\", tablefmt=\"pretty\",showindex=False))\n",
        "print('\\n Metrics:\\n')\n",
        "print(f'MAE= {MAE_OLS}') # MAE\n",
        "print(f'RMSE= {RMSE_OLS}')  # RMSE"
      ]
    },
    {
      "cell_type": "markdown",
      "metadata": {
        "id": "-ePA30lbXukn"
      },
      "source": [
        "#### Up to degree 2 + All possible Interactions"
      ]
    },
    {
      "cell_type": "code",
      "execution_count": null,
      "metadata": {
        "colab": {
          "base_uri": "https://localhost:8080/"
        },
        "id": "oGHxoarpXCTP",
        "outputId": "959ad828-7efe-4165-e0f2-3771b76fad80"
      },
      "outputs": [
        {
          "name": "stdout",
          "output_type": "stream",
          "text": [
            "\n",
            " Metrics:\n",
            "\n",
            "MAE= 66476.78973539105\n",
            "RMSE= 89874.35090103387\n"
          ]
        }
      ],
      "source": [
        "# Adding Polinomial of degree 2 and all possible interactions\n",
        "# Number_of_coefficient now = 23 + 23 + 23C2 = 299\n",
        "\n",
        "poly = PolynomialFeatures(2)\n",
        "X_train2 = poly.fit_transform(X_train)[:,1:]# Errase first constant column 'degree 0'\n",
        "X_train2_sin = poly.fit_transform(X_train)\n",
        "\n",
        "# Fit model with Polinomial\n",
        "lm2 = LinearRegression()\n",
        "lm2.fit(X_train2, y_train)\n",
        "\n",
        "# Metrics\n",
        "X_test2 = poly.transform(X_test)[:, 1:]  # Transforming also test part\n",
        "y_test_pred_OLS2 = lm2.predict(X_test2)\n",
        "\n",
        "MAE_OLS2 = mean_absolute_error(y_test, y_test_pred_OLS2)\n",
        "RMSE_OLS2 = root_mean_squared_error(y_test, y_test_pred_OLS2)\n",
        "\n",
        "print('\\n Metrics:\\n')\n",
        "print(f'MAE= {MAE_OLS2}') # MAE\n",
        "print(f'RMSE= {RMSE_OLS2}')  # RMSE\n"
      ]
    },
    {
      "cell_type": "code",
      "execution_count": null,
      "metadata": {
        "id": "f2olnTz5YrnK"
      },
      "outputs": [],
      "source": [
        "# Just in case you want to see the coefficients\n",
        "\n",
        "# Showing Results\n",
        "\n",
        "intercept2 = lm2.intercept_.round(4)\n",
        "coef2 = lm2.coef_.round(4)\n",
        "\n",
        "# New features names\n",
        "feature_names = poly.get_feature_names_out(input_features=X_train.columns)\n",
        "\n",
        "tabla_coeficients2 = pd.DataFrame({\n",
        "    \"Variables\": [\"Intercept\"] + list(feature_names[1:]),\n",
        "    \"Coeficients\": [intercept2] + list(coef2)\n",
        "})\n",
        "\n",
        "# Show table\n",
        "#print(tabulate(tabla_coeficients2, headers=\"keys\", tablefmt=\"pretty\",showindex=False))"
      ]
    },
    {
      "cell_type": "markdown",
      "metadata": {
        "id": "M9jhzm-Kbv8M"
      },
      "source": [
        "### LASSO:"
      ]
    },
    {
      "cell_type": "markdown",
      "metadata": {
        "id": "PQg-Rmn6ga8u"
      },
      "source": [
        "#### Up to degree 1"
      ]
    },
    {
      "cell_type": "code",
      "execution_count": null,
      "metadata": {
        "colab": {
          "base_uri": "https://localhost:8080/"
        },
        "id": "6w7QFOJKQPTj",
        "outputId": "57d732cd-37d9-41bc-d89d-e7a0a4fa56ba"
      },
      "outputs": [
        {
          "name": "stdout",
          "output_type": "stream",
          "text": [
            "RMSE: 103645.66530087817\n",
            "Config: {'LASSO__alpha': 21.300000000000004}\n"
          ]
        }
      ],
      "source": [
        "# Elecitation of optimal alpha hyperparameter\n",
        "\n",
        "steps = [ ('scale', StandardScaler()),('poly', PolynomialFeatures(1)), ('LASSO', Lasso()) ]\n",
        "pipe  = Pipeline(steps)\n",
        "\n",
        "## Define a grid for the hyperparameter value\n",
        "grid = dict()\n",
        "grid['LASSO__alpha'] = np.arange(21, 23, 0.1) #First tryed with np.arange(1, 25, 1) and results were Config: {'LASSO__alpha': 22}\n",
        "# define search object\n",
        "cv=KFold(n_splits=10, shuffle = True, random_state=42)\n",
        "search = GridSearchCV(pipe, grid, scoring='neg_root_mean_squared_error', cv=cv)\n",
        "# perform the search\n",
        "results = search.fit(X_train, y_train)\n",
        "\n",
        "\n",
        "\n",
        "print(f'RMSE: {-results.best_score_}') #RMSE: 103645.66530087817\n",
        "print(f'Config: {results.best_params_}') #Config: {'LASSO__alpha': 21.300000000000004}"
      ]
    },
    {
      "cell_type": "code",
      "execution_count": null,
      "metadata": {
        "id": "ecxCP51cbdFm"
      },
      "outputs": [],
      "source": [
        "# Computing LASSO with optimal alpha:\n",
        "\n",
        "## preprocessing\n",
        "steps = [('scale', StandardScaler()),\n",
        "         ('poly', PolynomialFeatures(1, include_bias=False)), # erase first constant column, due to Polynomial of '0 degree'\n",
        "         ('lasso', Lasso(alpha=21))]\n",
        "pipe  = Pipeline(steps)\n",
        "\n",
        "## fitting\n",
        "pipe.fit(X_train, y_train)\n",
        "\n",
        "## Prediction in test sample\n",
        "y_test_pred_L1 = pipe.predict(X_test)"
      ]
    },
    {
      "cell_type": "code",
      "execution_count": null,
      "metadata": {
        "colab": {
          "base_uri": "https://localhost:8080/"
        },
        "id": "qlMMxxhSa6vT",
        "outputId": "3df845be-f03c-4715-936a-c98690f84fae"
      },
      "outputs": [
        {
          "name": "stdout",
          "output_type": "stream",
          "text": [
            "+-----------------------------+-------------+\n",
            "|          Variables          | Coeficients |\n",
            "+-----------------------------+-------------+\n",
            "|                             |             |\n",
            "|          Intercept          | 368989.246  |\n",
            "|                             |             |\n",
            "|         POPULATION          | -31907.6469 |\n",
            "|          LATITUDE           | -32314.6086 |\n",
            "|          LONGITUDE          | -59753.0776 |\n",
            "|         Total_units         | 44246.4184  |\n",
            "|        Vacant_units         | -10109.9712 |\n",
            "|        Median_rooms         | -16720.8476 |\n",
            "| Mean_household_size_owners  | -3176.1445  |\n",
            "| Mean_household_size_renters | -19600.7288 |\n",
            "|     Built_2005_or_later     | -24344.6045 |\n",
            "|     Built_2000_to_2004      | -21343.5611 |\n",
            "|         Built_1990s         | -21803.4225 |\n",
            "|         Built_1980s         | -23823.3781 |\n",
            "|         Built_1970s         | -15728.8959 |\n",
            "|         Built_1960s         | -1296.7861  |\n",
            "|         Built_1950s         | -7876.6694  |\n",
            "|         Built_1940s         |  1886.5381  |\n",
            "|         Bedrooms_1          | -45284.1215 |\n",
            "|         Bedrooms_2          | -48194.617  |\n",
            "|         Bedrooms_3          | -55103.0738 |\n",
            "|         Bedrooms_4          | -32975.5146 |\n",
            "|     Bedrooms_5_or_more      | -2886.1118  |\n",
            "|           Owners            | -45847.961  |\n",
            "|   Median_household_income   | 165408.1299 |\n",
            "+-----------------------------+-------------+\n",
            "\n",
            " Metrics:\n",
            "\n",
            "MAE= 81688.95002090104\n",
            "RMSE= 108428.1595758999\n"
          ]
        }
      ],
      "source": [
        "# Showing results\n",
        "\n",
        "intercept = pipe[2].intercept_.round(4)\n",
        "coef = pipe[2].coef_.round(4)\n",
        "\n",
        "tabla_coeficients = pd.DataFrame({\n",
        "    \"Variables\": [''] +[\"Intercept\"] +[''] + predictors,\n",
        "    \"Coeficients\":[''] + [intercept] + [''] + list(coef)\n",
        "})\n",
        "\n",
        "MAE_L1 = mean_absolute_error(y_test, y_test_pred_L1)\n",
        "RMSE_L1 = root_mean_squared_error(y_test, y_test_pred_L1)\n",
        "\n",
        "print(tabulate(tabla_coeficients, headers=\"keys\", tablefmt=\"pretty\",showindex=False))\n",
        "print('\\n Metrics:\\n')\n",
        "print(f'MAE= {MAE_L1}') # MAE\n",
        "print(f'RMSE= {RMSE_L1}')  # RMSE"
      ]
    },
    {
      "cell_type": "markdown",
      "metadata": {
        "id": "xXUIsLQYgjfU"
      },
      "source": [
        "#### Up to degree 2 + All possible Interactions"
      ]
    },
    {
      "cell_type": "code",
      "execution_count": null,
      "metadata": {
        "colab": {
          "base_uri": "https://localhost:8080/"
        },
        "id": "iHQ2idBuXtWI",
        "outputId": "8acc721c-bb93-4f1d-be1a-59e7a875eb24"
      },
      "outputs": [
        {
          "output_type": "stream",
          "name": "stdout",
          "text": [
            "MAE= 66313.07837699661\n",
            "RMSE= 90112.76667136922\n"
          ]
        }
      ],
      "source": [
        "# Computing LASSO with optimal alpha:\n",
        "\n",
        "## preprocessing\n",
        "steps = [('scale', StandardScaler()),\n",
        "         ('poly', PolynomialFeatures(2, include_bias=False)), # erase first constant column, due to Polynomial of '0 degree'\n",
        "         ('lasso', LassoCV(max_iter=1000000))]\n",
        "pipe  = Pipeline(steps)\n",
        "\n",
        "## fitting\n",
        "pipe.fit(X_train, y_train)\n",
        "\n",
        "## Prediction in test sample\n",
        "y_test_pred_L1_2 = pipe.predict(X_test)\n",
        "\n",
        "MAE_L1_2 = mean_absolute_error(y_test, y_test_pred_L1_2)\n",
        "RMSE_L1_2 = root_mean_squared_error(y_test, y_test_pred_L1_2)\n",
        "\n",
        "print(f'MAE= {MAE_L1_2}') # MAE\n",
        "print(f'RMSE= {RMSE_L1_2}')  # RMSE\n",
        "\n",
        "\n",
        "# LASSO(alpha=1):\n",
        "#MAE= 66468.27105009482\n",
        "#RMSE= 89873.36346128727\n",
        "\n",
        "# LASSO(alpha=5):\n",
        "#MAE= 66448.19130901879\n",
        "#RMSE= 89880.44072695242\n",
        "\n",
        "# LASSO(alpha=21):\n",
        "#MAE= 66406.17921725825\n",
        "#RMSE= 89888.13273847917\n",
        "\n",
        "# LASSO(alpha=100):\n",
        "#MAE= 66275.1187364626\n",
        "#RMSE= 89916.87936252191"
      ]
    },
    {
      "cell_type": "code",
      "execution_count": null,
      "metadata": {
        "colab": {
          "base_uri": "https://localhost:8080/"
        },
        "id": "agD03WWZYhfd",
        "outputId": "d73cdb65-052c-4efd-ba2f-1282ef640697"
      },
      "outputs": [
        {
          "name": "stdout",
          "output_type": "stream",
          "text": [
            "\n",
            "Features discarded by Lasso:\n",
            "+----------------------------------------+-------------+\n",
            "|                Feature                 | Coefficient |\n",
            "+----------------------------------------+-------------+\n",
            "|        POPULATION Median_rooms         |    -0.0     |\n",
            "| POPULATION Mean_household_size_owners  |    -0.0     |\n",
            "|         POPULATION Bedrooms_4          |     0.0     |\n",
            "|          LONGITUDE Bedrooms_3          |     0.0     |\n",
            "|        Vacant_units Bedrooms_1         |     0.0     |\n",
            "|        Vacant_units Bedrooms_3         |     0.0     |\n",
            "| Mean_household_size_renters Bedrooms_4 |     0.0     |\n",
            "|     Built_2005_or_later Bedrooms_4     |    -0.0     |\n",
            "|           Built_1960s Owners           |     0.0     |\n",
            "|     Bedrooms_2 Bedrooms_5_or_more      |    -0.0     |\n",
            "|              Bedrooms_3^2              |    -0.0     |\n",
            "|   Bedrooms_3 Median_household_income   |    -0.0     |\n",
            "+----------------------------------------+-------------+\n"
          ]
        }
      ],
      "source": [
        "# Showing coefficients canceled by LASSO\n",
        "\n",
        "# Getting coef.\n",
        "lasso_model = pipe.named_steps['lasso']\n",
        "poly_features = pipe.named_steps['poly']\n",
        "\n",
        "# Extracting Names of features\n",
        "feature_names = poly_features.get_feature_names_out(X_train.columns)\n",
        "\n",
        "# Generating df\n",
        "coefficients = pd.DataFrame({\n",
        "    'Feature': feature_names,\n",
        "    'Coefficient': lasso_model.coef_\n",
        "})\n",
        "\n",
        "# Filter by coef == 0\n",
        "discarded_features = coefficients[coefficients['Coefficient'] == 0]\n",
        "print(\"\\nFeatures discarded by Lasso:\")\n",
        "print(tabulate(discarded_features, headers=\"keys\", tablefmt=\"pretty\",showindex=False))"
      ]
    },
    {
      "cell_type": "markdown",
      "metadata": {
        "id": "KxeHf9P5q5Hz"
      },
      "source": [
        "### Ridge:"
      ]
    },
    {
      "cell_type": "code",
      "execution_count": null,
      "metadata": {
        "id": "KYRi07WJhCRJ"
      },
      "outputs": [],
      "source": [
        "# Elecitation of optimal alpha hyperparameter\n",
        "\n",
        "steps2 = [\n",
        "    ('scale', StandardScaler()),  # Escalado de datos\n",
        "    ('poly', PolynomialFeatures(2)),  # Características polinómicas de grado 2\n",
        "    ('ridge', Ridge(max_iter=1000000))  # Ridge regression\n",
        "]\n",
        "pipe2 = Pipeline(steps2)\n",
        "\n",
        "## Define a grid for the hyperparameter value\n",
        "grid = dict()\n",
        "grid['ridge__alpha'] = np.arange(0.1, 10, .1)\n",
        "# define search object\n",
        "cv=KFold(n_splits=10, shuffle = True, random_state=42)\n",
        "search = GridSearchCV(pipe2, grid, scoring='neg_root_mean_squared_error', cv=cv)\n",
        "# perform the search\n",
        "results = search.fit(X_train, y_train)\n",
        "\n",
        "print(f'RMSE: {-results.best_score_}')#RMSE: 87247.08723430948\n",
        "print(f'Config: {results.best_params_}')#Config: {'ridge__alpha': 1.7000000000000002}"
      ]
    },
    {
      "cell_type": "code",
      "execution_count": null,
      "metadata": {
        "colab": {
          "base_uri": "https://localhost:8080/"
        },
        "id": "klXdYLhLp4z5",
        "outputId": "265c7392-234c-4bb9-d9c9-9128f8102a37"
      },
      "outputs": [
        {
          "name": "stdout",
          "output_type": "stream",
          "text": [
            "MAE= 66310.28150509817\n",
            "RMSE= 89875.80477604036\n"
          ]
        }
      ],
      "source": [
        "# Computing Ridge with optimal alpha:\n",
        "\n",
        "# Definir el pipeline con Ridge\n",
        "steps2 = [\n",
        "    ('scale', StandardScaler()),  # Escalado de datos\n",
        "    ('poly', PolynomialFeatures(2)),  # Características polinómicas de grado 2\n",
        "    ('ridge', Ridge(alpha=1.7))  # Ridge regression\n",
        "]\n",
        "pipe2 = Pipeline(steps2)\n",
        "\n",
        "## fitting\n",
        "pipe2.fit(X_train, y_train)\n",
        "\n",
        "## Prediction in test sample\n",
        "y_test_pred_L2 = pipe2.predict(X_test)\n",
        "\n",
        "MAE_L2 = mean_absolute_error(y_test, y_test_pred_L2)\n",
        "RMSE_L2 = root_mean_squared_error(y_test, y_test_pred_L2)\n",
        "\n",
        "print(f'MAE= {MAE_L2}') # MAE\n",
        "print(f'RMSE= {RMSE_L2}')  # RMSE"
      ]
    },
    {
      "cell_type": "markdown",
      "metadata": {
        "id": "kIs-5BJ1xOIX"
      },
      "source": [
        "### Final Comments:\n",
        "\n",
        "First, it is important to mention that OLS coefficients are more interpretable than those of LASSO and Ridge, where standardization and penalties reduce the direct interpretability of independent variables in relation to the dependent variable. However, since our primary goal is to predict, this limitation does not significantly affect us. Therefore, we can rely solely on our loss functions: MAE and RMSE (the latter penalizes errors more than proportionally as predictions deviate further from the actual value, due to the squared term).\n",
        "\n",
        "Another difference is that OLS is more naïve in the sense that it treats all variables as relevant and assigns a value to each of them. This does not happen in LASSO, where ,by design, some coefficients can be assigned a value of zero (Ridge also reduces the magnitude of coefficients, but not as sharply as LASSO (coefficient never = 0)); this is the way penalty regressions deals with overcomplexity in the models, and that's why introducing so many variables doesn't bring as many problems as in OLS.\n",
        "Even so, in our case, using any of these models does not make a significant difference.\n",
        "\n",
        "We might also have concerns about what alpha represents, whether there is a standard or \"usual\" range of values, and why sometimes changing it does not make a significant difference. However, it seems that this parameter is context-dependent and does not have further interpretability. Thus, we focus on computing it through cross-validation (the same applies to other hyperparameters).\n"
      ]
    },
    {
      "cell_type": "markdown",
      "metadata": {
        "id": "HPXqfUHoZ40T"
      },
      "source": [
        "#### DEALING WITH MULTICOLINEARITY:\n",
        "* Is it really a problem for Penalizer Regressions?\n",
        "\n",
        "From what I understand, all these penalty approaches are used to deal with overcomplexity in models and to combat overfitting, aiming for a more general and extrapolable model (in this sense, they are similar to the pruning process in decision trees). Therefore, they really don't have any direct implications for the 'usual' collinearity problem.\n",
        "\n",
        "Even though I have read that excessive collinearity can generate some randomness in the selection of 'importance' among variables (meaning which variables are assigned a value of zero or close to zero), this is not a real problem here. We are only losing interpretability, but our main goal is to improve prediction. In this case, collinearity is not an issue (at least not in the classical econometric sense).\n"
      ]
    },
    {
      "cell_type": "markdown",
      "metadata": {
        "id": "TXYyXpLyi7L1"
      },
      "source": [
        "##### Evidence for Multicollinearity in our Data Base:\n",
        "* Will be using VIF (Variance Inflation Factor):\n",
        "\n",
        "\n",
        "$$VIF(X_i) = \\frac{1}{1 - R^2_i}$$\n",
        "\n",
        "\n",
        "* Where:\n",
        "\n",
        " $$R^2_i \\text{ is the coefficient of determination obtained by regressing }X_i \\text{ against all the other independent variables.}$$\n",
        "\n",
        "* VIF = 1: No multicollinearity.\n",
        "* 1 < VIF ≤ 5: Moderate multicollinearity.\n",
        "* VIF > 5  High multicollinearity.\n",
        "\n"
      ]
    },
    {
      "cell_type": "code",
      "execution_count": null,
      "metadata": {
        "colab": {
          "base_uri": "https://localhost:8080/"
        },
        "id": "0yc1HbDuMNHS",
        "outputId": "e000626e-8390-4f37-fa73-db46d78dfa71"
      },
      "outputs": [
        {
          "name": "stdout",
          "output_type": "stream",
          "text": [
            "\n",
            "Variables with VIF > 5:\n",
            "+--------------------+---------+\n",
            "|      Variable      |   VIF   |\n",
            "+--------------------+---------+\n",
            "|       const        | 1392.73 |\n",
            "|     POPULATION     |  8.09   |\n",
            "|    Total_units     |  9.74   |\n",
            "|    Median_rooms    |  12.93  |\n",
            "|     Bedrooms_1     |  14.45  |\n",
            "|     Bedrooms_2     |  13.47  |\n",
            "|     Bedrooms_3     |  19.99  |\n",
            "|     Bedrooms_4     |  20.24  |\n",
            "| Bedrooms_5_or_more |  5.07   |\n",
            "|       Owners       |  5.88   |\n",
            "+--------------------+---------+\n"
          ]
        }
      ],
      "source": [
        "# VIF for standar DB\n",
        "\n",
        "# Adding constant\n",
        "X_with_const = add_constant(X)\n",
        "\n",
        "# Computing VIF for independent variables (X)\n",
        "vif1_data = pd.DataFrame()\n",
        "vif1_data[\"Variable\"] = X_with_const.columns\n",
        "vif1_data[\"VIF\"] = [variance_inflation_factor(X_with_const.values, i) for i in range(X_with_const.shape[1])]\n",
        "\n",
        "# Selecting > 5 ones\n",
        "vif1_c = vif1_data[vif1_data['VIF'] > 5].round(2)\n",
        "\n",
        "print(\"\\nVariables with VIF > 5:\")\n",
        "print(tabulate(vif1_c, headers=\"keys\", tablefmt=\"pretty\",showindex=False))"
      ]
    },
    {
      "cell_type": "code",
      "execution_count": null,
      "metadata": {
        "colab": {
          "base_uri": "https://localhost:8080/"
        },
        "id": "gJyC4oeaPgbA",
        "outputId": "e45967a5-1c8b-4759-9cdc-894259780029"
      },
      "outputs": [
        {
          "name": "stderr",
          "output_type": "stream",
          "text": [
            "/usr/local/lib/python3.10/dist-packages/statsmodels/regression/linear_model.py:1782: RuntimeWarning: divide by zero encountered in scalar divide\n",
            "  return 1 - self.ssr/self.centered_tss\n"
          ]
        }
      ],
      "source": [
        "# VIF for PolyFeature(2) transformed DB\n",
        "\n",
        "# generate polinomyos discarding 'degree 0'\n",
        "poly = PolynomialFeatures(degree=2, include_bias=False)\n",
        "X_poly = poly.fit_transform(X)\n",
        "X_poly_with_const = add_constant(X_poly)\n",
        "\n",
        "# Obtaining names\n",
        "feature_names = poly.get_feature_names_out(X.columns)\n",
        "\n",
        "column_names = ['Intercept'] + list(feature_names)\n",
        "X_poly_df = pd.DataFrame(X_poly_with_const, columns=column_names)\n",
        "\n",
        "# Computing VIF\n",
        "vif2_data = pd.DataFrame()\n",
        "vif2_data[\"feature\"] = X_poly_df.columns\n",
        "vif2_data[\"VIF\"] = [variance_inflation_factor(X_poly_df.values, i) for i in range(X_poly_df.shape[1])]"
      ]
    },
    {
      "cell_type": "code",
      "execution_count": null,
      "metadata": {
        "colab": {
          "base_uri": "https://localhost:8080/"
        },
        "id": "yXvn8X-0pDj_",
        "outputId": "1adee629-b7e5-49ac-f7c9-3b1bec9a57e3"
      },
      "outputs": [
        {
          "name": "stdout",
          "output_type": "stream",
          "text": [
            "298 out of 300 variables have VIF > 5\n"
          ]
        }
      ],
      "source": [
        "# Selecting > 5 ones\n",
        "vif2_c = vif2_data[vif2_data['VIF'] > 5].round(2)\n",
        "print(f\"{vif2_c.shape[0]} out of {vif2_data.shape[0]} variables have VIF > 5\")"
      ]
    },
    {
      "cell_type": "markdown",
      "metadata": {
        "id": "YikTmDqz0E7r"
      },
      "source": [
        "## No Parametric Approach\n",
        "\n"
      ]
    },
    {
      "cell_type": "markdown",
      "metadata": {
        "id": "xnBA8BoE10nE"
      },
      "source": [
        "### Random Tree Model"
      ]
    },
    {
      "cell_type": "code",
      "execution_count": null,
      "metadata": {
        "colab": {
          "base_uri": "https://localhost:8080/"
        },
        "id": "ytk5XmYgm6Ov",
        "outputId": "f95bda44-a3a1-4706-db56-12777e450af9"
      },
      "outputs": [
        {
          "name": "stdout",
          "output_type": "stream",
          "text": [
            "RMSE: 111234.55004998113\n",
            "Config: {'ccp_alpha': 0.0}\n"
          ]
        }
      ],
      "source": [
        "# Elecitation of optimal ccp hyperparameter (min_sample_leaf = 5)\n",
        "# Recall this parameter is bounded as 0 =< ccp =< 1\n",
        "treereg = tree.DecisionTreeRegressor(min_samples_leaf=5, random_state=42)\n",
        "## Define a grid for the hyperparameter value\n",
        "grid = dict()\n",
        "grid['ccp_alpha'] = np.arange(0, 1, .1)\n",
        "# define search object\n",
        "cv=KFold(n_splits=10, shuffle = True, random_state=42)\n",
        "search = GridSearchCV(treereg, grid, scoring='neg_root_mean_squared_error', cv=cv)\n",
        "# perform the search\n",
        "results = search.fit(X_train, y_train)\n",
        "\n",
        "print(f'RMSE: {-results.best_score_}') #RMSE: 94405.14997194431\n",
        "print(f'Config: {results.best_params_}') #Config: {'ccp_alpha': 0.0}"
      ]
    },
    {
      "cell_type": "code",
      "execution_count": null,
      "metadata": {
        "colab": {
          "base_uri": "https://localhost:8080/"
        },
        "id": "yXD6712fqUJT",
        "outputId": "21546187-3740-4fb3-c1e4-ab88f33bf39c"
      },
      "outputs": [
        {
          "name": "stdout",
          "output_type": "stream",
          "text": [
            "RMSE: 92166.38044868765\n",
            "Config: {'min_samples_leaf': 2}\n"
          ]
        }
      ],
      "source": [
        "# Elecitation of optimal min_sample_leaf  hyperparameter (using before computed optimal ccp = 0.0)\n",
        "\n",
        "treereg = tree.DecisionTreeRegressor(ccp_alpha=0, random_state=42)\n",
        "## Define a grid for the hyperparameter value\n",
        "grid = dict()\n",
        "grid['min_samples_leaf'] = np.arange(1, 5, 1)\n",
        "# define search object\n",
        "cv=KFold(n_splits=10, shuffle = True, random_state=42)\n",
        "search = GridSearchCV(treereg, grid, scoring='neg_root_mean_squared_error', cv=cv)\n",
        "# perform the search\n",
        "results = search.fit(X_train, y_train)\n",
        "\n",
        "print(f'RMSE: {-results.best_score_}') # RMSE: 92166.38044868765\n",
        "print(f'Config: {results.best_params_}') #Config: {'min_samples_leaf': 2}"
      ]
    },
    {
      "cell_type": "code",
      "execution_count": null,
      "metadata": {
        "colab": {
          "base_uri": "https://localhost:8080/"
        },
        "id": "63DWs-37eOBu",
        "outputId": "2570837d-dba8-4b2d-e5c1-7b0b976ea2b5"
      },
      "outputs": [
        {
          "output_type": "stream",
          "name": "stdout",
          "text": [
            "MAE= 49305.4263322884\n",
            "RMSE= 92888.99886576382\n"
          ]
        }
      ],
      "source": [
        "# Estimation using optimal hyperparameters\n",
        "\n",
        "treereg = tree.DecisionTreeRegressor(ccp_alpha=0,min_samples_leaf=2, random_state=42)\n",
        "treereg = treereg.fit(X_train, y_train)\n",
        "\n",
        "## Metrics in testing sample\n",
        "y_test_pred_RT = treereg.predict(X_test)\n",
        "\n",
        "MAE_RT = mean_absolute_error(y_test, y_test_pred_RT)\n",
        "RMSE_RT = root_mean_squared_error(y_test, y_test_pred_RT)\n",
        "\n",
        "print(f'MAE= {MAE_RT}') # MAE\n",
        "print(f'RMSE= {RMSE_RT}') #RMSE"
      ]
    },
    {
      "cell_type": "code",
      "execution_count": null,
      "metadata": {
        "colab": {
          "base_uri": "https://localhost:8080/"
        },
        "id": "iySTKZmAtL4k",
        "outputId": "20e691c9-49c4-4803-a2be-9a8ae40ce924"
      },
      "outputs": [
        {
          "output_type": "stream",
          "name": "stdout",
          "text": [
            "Total nodes: 5133\n",
            "Total terminal nodes: 2567\n"
          ]
        }
      ],
      "source": [
        "# Measuring Number of Final nodes (overfitting problem)\n",
        "\n",
        "\n",
        "total_nodes = treereg.tree_.node_count\n",
        "\n",
        "# Identifying final nodes\n",
        "terminal_nodes = sum(treereg.tree_.children_left == -1)  # children_left = -1 indica nodo terminal\n",
        "\n",
        "print(f\"Total nodes: {total_nodes}\")\n",
        "print(f\"Total terminal nodes: {terminal_nodes}\")"
      ]
    },
    {
      "cell_type": "code",
      "execution_count": null,
      "metadata": {
        "id": "3_9vPOZyevXp"
      },
      "outputs": [],
      "source": [
        "## Plot tree\n",
        "import contextlib\n",
        "import io\n",
        "\n",
        "# Cancel annoying text primp\n",
        "with contextlib.redirect_stdout(io.StringIO()):\n",
        "    fig = plt.figure(figsize=(80, 80))\n",
        "    tree.plot_tree(treereg, feature_names=predictors, filled=True)\n",
        "\n",
        "# SAve imagen\n",
        "plt.savefig(\"decision_tree.png\", dpi=300, bbox_inches=\"tight\")\n",
        "\n",
        "# Show graph\n",
        "plt.show()\n",
        "\n",
        "# But it is so huge I think is pointless to print it (I will attach the image in the email)\n"
      ]
    },
    {
      "cell_type": "code",
      "execution_count": null,
      "metadata": {
        "colab": {
          "base_uri": "https://localhost:8080/"
        },
        "id": "KMtG9y1cwrdB",
        "outputId": "b003c986-b003-4c62-ed18-701182bba697"
      },
      "outputs": [
        {
          "output_type": "stream",
          "name": "stdout",
          "text": [
            "+-----------------------------+------------+\n",
            "|          VARIABLE           | IMPORTANCE |\n",
            "+-----------------------------+------------+\n",
            "|   Median_household_income   |   0.4524   |\n",
            "|          LONGITUDE          |   0.1592   |\n",
            "|          LATITUDE           |   0.0958   |\n",
            "| Mean_household_size_renters |   0.0458   |\n",
            "|         Bedrooms_1          |   0.0356   |\n",
            "|         Bedrooms_3          |   0.021    |\n",
            "|         Built_1940s         |   0.0201   |\n",
            "|         Built_1960s         |   0.0165   |\n",
            "|           Owners            |   0.0162   |\n",
            "| Mean_household_size_owners  |   0.0162   |\n",
            "|         Built_1970s         |   0.0125   |\n",
            "|         Built_1950s         |   0.0124   |\n",
            "|        Vacant_units         |   0.0123   |\n",
            "|         Built_1980s         |   0.0118   |\n",
            "|         Bedrooms_2          |   0.0095   |\n",
            "|     Built_2000_to_2004      |   0.0093   |\n",
            "|        Median_rooms         |   0.0089   |\n",
            "|         Built_1990s         |   0.0086   |\n",
            "|     Built_2005_or_later     |   0.0085   |\n",
            "|     Bedrooms_5_or_more      |   0.0081   |\n",
            "|         POPULATION          |   0.0073   |\n",
            "|         Total_units         |   0.0061   |\n",
            "|         Bedrooms_4          |   0.0058   |\n",
            "+-----------------------------+------------+\n"
          ]
        }
      ],
      "source": [
        "## Get importance\n",
        "\n",
        "treereg = tree.DecisionTreeRegressor(ccp_alpha=0,min_samples_leaf=2, random_state=42)\n",
        "treereg = treereg.fit(X_train, y_train)\n",
        "\n",
        "importance1 = pd.Series(treereg.feature_importances_).sort_values(ascending=False)\n",
        "importance1.index = [predictors[i] for i in importance1.index]\n",
        "\n",
        "# Creating dictionary with values\n",
        "importance1_dict = {predictor: importance1[predictor] for predictor in predictors}\n",
        "\n",
        "# Treating the df\n",
        "df_importance1 = pd.DataFrame(importance1_dict, index=['IMPORTANCE']).transpose()\n",
        "df_importance1_sorted = df_importance1.sort_values(by='IMPORTANCE', ascending=False)\n",
        "\n",
        "# Naming columns\n",
        "df_importance1_sorted = df_importance1_sorted.reset_index()\n",
        "df_importance1_sorted.columns = ['VARIABLE', 'IMPORTANCE']\n",
        "\n",
        "df_importance1 = df_importance1.reset_index()\n",
        "df_importance1.columns = ['VARIABLE', 'IMPORTANCE']\n",
        "\n",
        "# Showing Table\n",
        "print(tabulate(df_importance1_sorted.round(4), headers=\"keys\", tablefmt=\"pretty\", showindex=False))\n",
        "\n"
      ]
    },
    {
      "cell_type": "code",
      "execution_count": null,
      "metadata": {
        "colab": {
          "base_uri": "https://localhost:8080/",
          "height": 425
        },
        "id": "L_ovF0NH16_K",
        "outputId": "938f3a86-020e-47e3-f250-f86925cc8501"
      },
      "outputs": [
        {
          "data": {
            "image/png": "[encoded data removed]",
            "text/plain": [
              "<Figure size 800x500 with 1 Axes>"
            ]
          },
          "metadata": {},
          "output_type": "display_data"
        }
      ],
      "source": [
        "# Plot Importance\n",
        "\n",
        "# Conf. stiles\n",
        "sns.set_theme(style=\"whitegrid\")\n",
        "sns.set_palette(\"husl\")\n",
        "\n",
        "# Figure\n",
        "fig, ax = plt.subplots(figsize=(8, 5), facecolor='white')\n",
        "ax.set_facecolor('#f8f9fa')\n",
        "\n",
        "# Bar graph with gradient colors\n",
        "bars = ax.bar(df_importance1_sorted['VARIABLE'],\n",
        "              df_importance1_sorted['IMPORTANCE'],\n",
        "              width=0.7)\n",
        "\n",
        "colors = sns.color_palette(\"flare\", n_colors=len(df_importance1_sorted))\n",
        "for bar, color in zip(bars, colors):\n",
        "    bar.set_color(color)\n",
        "\n",
        "# Axis\n",
        "ax.spines['top'].set_visible(False)\n",
        "ax.spines['right'].set_visible(False)\n",
        "ax.spines['left'].set_color('#666666')\n",
        "ax.spines['bottom'].set_color('#666666')\n",
        "\n",
        "# Add grid\n",
        "ax.yaxis.grid(True, linestyle='--', alpha=0.7, color='#cccccc')\n",
        "ax.set_axisbelow(True)\n",
        "\n",
        "# Labels\n",
        "plt.xticks(rotation=45, ha='right')\n",
        "ax.tick_params(axis='both', which='major', labelsize=8, colors='#666666')  # Reduced from 10 to 8\n",
        "\n",
        "plt.title(\"Variables Importance\",\n",
        "          fontsize=12,  # Reduced from 16 to 12\n",
        "          pad=15,      # Reduced from 20 to 15\n",
        "          fontweight='bold',\n",
        "          fontfamily='sans-serif',\n",
        "          color='#333333')\n",
        "\n",
        "\n",
        "# Show graph\n",
        "plt.tight_layout()\n",
        "plt.show()"
      ]
    },
    {
      "cell_type": "markdown",
      "metadata": {
        "id": "YJJAR3AaAbFV"
      },
      "source": [
        "### Random Forest Model"
      ]
    },
    {
      "cell_type": "code",
      "execution_count": null,
      "metadata": {
        "colab": {
          "base_uri": "https://localhost:8080/"
        },
        "id": "W0qyEhdZ4U7J",
        "outputId": "4eb2ff1c-61ea-46c2-98ba-ba645299b4aa"
      },
      "outputs": [
        {
          "name": "stdout",
          "output_type": "stream",
          "text": [
            "RMSE: 68534.04137110502\n",
            "Config: {'min_samples_leaf': 1}\n"
          ]
        }
      ],
      "source": [
        "# Elecitation of optimal min_sample_leaf hyperparameter (n_estimators=100, max_features = 'sqrt')\n",
        "\n",
        "RFreg = RandomForestRegressor(n_estimators=100,max_features = 'sqrt', random_state = 42)\n",
        "\n",
        "## Define a grid for the hyperparameter value\n",
        "grid = dict()\n",
        "grid['min_samples_leaf'] = np.arange(1, 6, 1)\n",
        "# define search object\n",
        "cv=KFold(n_splits=10, shuffle = True, random_state=42)\n",
        "search = GridSearchCV(RFreg, grid, scoring='neg_root_mean_squared_error', cv=cv)\n",
        "# perform the search\n",
        "results = search.fit(X_train, y_train)\n",
        "\n",
        "print(f'RMSE: {-results.best_score_}') #RMSE: 68534.04137110502\n",
        "print(f'Config: {results.best_params_}') #Config: {'min_samples_leaf': 1}"
      ]
    },
    {
      "cell_type": "code",
      "execution_count": null,
      "metadata": {
        "colab": {
          "base_uri": "https://localhost:8080/"
        },
        "id": "WOHNFCbQ8idW",
        "outputId": "b322cab1-b0c1-4076-da72-ec0bcbcc82fd"
      },
      "outputs": [
        {
          "name": "stdout",
          "output_type": "stream",
          "text": [
            "RMSE: 64987.73155469147\n",
            "Config: {'max_features': 0.5}\n"
          ]
        }
      ],
      "source": [
        "# Elecitation of optimal max_features hyperparameter (n_estimators=100, min_samples_leaf = 1)\n",
        "\n",
        "RFreg = RandomForestRegressor(n_estimators=100,min_samples_leaf = 1, random_state = 42)\n",
        "\n",
        "## Define a grid for the hyperparameter value\n",
        "grid = dict()\n",
        "grid['max_features'] = [0.5,0.25,0.8] # already tryed with ['sqrt','log2',0.5,23] and result was also 0.5\n",
        "# define search object\n",
        "cv=KFold(n_splits=10, shuffle = True, random_state=42)\n",
        "search = GridSearchCV(RFreg, grid, scoring='neg_root_mean_squared_error', cv=cv)\n",
        "# perform the search\n",
        "results = search.fit(X_train, y_train)\n",
        "\n",
        "print(f'RMSE: {-results.best_score_}') #RMSE: 64987.73155469147\n",
        "print(f'Config: {results.best_params_}') #Config: {'max_features': 0.5}"
      ]
    },
    {
      "cell_type": "code",
      "execution_count": null,
      "metadata": {
        "colab": {
          "base_uri": "https://localhost:8080/"
        },
        "id": "HV2o_-HoZ8JG",
        "outputId": "60f0caa5-0c26-4935-f667-68985fbe3441"
      },
      "outputs": [
        {
          "output_type": "stream",
          "name": "stdout",
          "text": [
            "MAE= 41829.027586206896\n",
            "RMSE= 71377.19741699957\n"
          ]
        }
      ],
      "source": [
        "# Computing Random Forest with optimal hyperparameters\n",
        "\n",
        "RFreg = RandomForestRegressor(n_estimators=100,min_samples_leaf=1,max_features =0.5,random_state = 42)\n",
        "RFreg = RFreg.fit(X_train, y_train)\n",
        "\n",
        "y_test_pred_RF = RFreg.predict(X_test)\n",
        "\n",
        "MAE_RF = mean_absolute_error(y_test, y_test_pred_RF)\n",
        "RMSE_RF = root_mean_squared_error(y_test, y_test_pred_RF)\n",
        "\n",
        "print(f'MAE= {MAE_RF}') # MAE\n",
        "print(f'RMSE= {RMSE_RF}') #RMSE"
      ]
    },
    {
      "cell_type": "code",
      "execution_count": null,
      "metadata": {
        "colab": {
          "base_uri": "https://localhost:8080/"
        },
        "id": "lVnIiWls4j3W",
        "outputId": "eefd447d-13aa-42a7-a8a5-566f13567734"
      },
      "outputs": [
        {
          "output_type": "stream",
          "name": "stdout",
          "text": [
            "+-----------------------------+------------+\n",
            "|          VARIABLE           | IMPORTANCE |\n",
            "+-----------------------------+------------+\n",
            "|   Median_household_income   |   0.3639   |\n",
            "|          LONGITUDE          |   0.166    |\n",
            "|          LATITUDE           |   0.1072   |\n",
            "| Mean_household_size_renters |   0.0452   |\n",
            "|           Owners            |   0.029    |\n",
            "|         Bedrooms_3          |   0.0287   |\n",
            "| Mean_household_size_owners  |   0.0278   |\n",
            "|         Bedrooms_1          |   0.0244   |\n",
            "|        Median_rooms         |   0.0243   |\n",
            "|     Bedrooms_5_or_more      |   0.0199   |\n",
            "|         Built_1940s         |   0.0191   |\n",
            "|         Built_1960s         |   0.0161   |\n",
            "|         Built_1980s         |   0.016    |\n",
            "|         Bedrooms_4          |   0.0159   |\n",
            "|        Vacant_units         |   0.0122   |\n",
            "|         Bedrooms_2          |   0.012    |\n",
            "|         Built_1970s         |   0.0117   |\n",
            "|         Built_1950s         |   0.0112   |\n",
            "|     Built_2000_to_2004      |   0.0106   |\n",
            "|     Built_2005_or_later     |   0.0106   |\n",
            "|         Built_1990s         |   0.0102   |\n",
            "|         Total_units         |   0.0097   |\n",
            "|         POPULATION          |   0.0083   |\n",
            "+-----------------------------+------------+\n"
          ]
        }
      ],
      "source": [
        "## Get importance\n",
        "\n",
        "RFreg = RandomForestRegressor(n_estimators=100,min_samples_leaf=1,max_features =0.5,random_state = 42)\n",
        "RFreg = RFreg.fit(X_train, y_train)\n",
        "\n",
        "importance2 = pd.Series(RFreg.feature_importances_).sort_values(ascending=False)\n",
        "\n",
        "importance2.index = [predictors[i] for i in importance2.index]\n",
        "\n",
        "# Creating dictionary with values\n",
        "importance2_dict = {predictor: importance2[predictor] for predictor in predictors}\n",
        "\n",
        "# Treating the df\n",
        "df_importance2 = pd.DataFrame(importance2_dict, index=['IMPORTANCE']).transpose()\n",
        "df_importance2_sorted = df_importance2.sort_values(by='IMPORTANCE', ascending=False)\n",
        "\n",
        "# Naming columns\n",
        "df_importance2_sorted = df_importance2_sorted.reset_index()\n",
        "df_importance2_sorted.columns = ['VARIABLE', 'IMPORTANCE']\n",
        "\n",
        "df_importance2 = df_importance2.reset_index()\n",
        "df_importance2.columns = ['VARIABLE', 'IMPORTANCE']\n",
        "\n",
        "# Showing Table\n",
        "print(tabulate(df_importance2_sorted.round(4), headers=\"keys\", tablefmt=\"pretty\", showindex=False))\n"
      ]
    },
    {
      "cell_type": "code",
      "execution_count": null,
      "metadata": {
        "colab": {
          "base_uri": "https://localhost:8080/",
          "height": 425
        },
        "id": "yFD9y-_JDKy8",
        "outputId": "70c5b525-fbf4-4a36-df25-4a998a1267cf"
      },
      "outputs": [
        {
          "data": {
            "image/png": "[encoded data removed]",
            "text/plain": [
              "<Figure size 800x500 with 1 Axes>"
            ]
          },
          "metadata": {},
          "output_type": "display_data"
        }
      ],
      "source": [
        "# PLot Importance\n",
        "\n",
        "# Stiles\n",
        "sns.set_theme(style=\"whitegrid\")\n",
        "sns.set_palette(\"husl\")\n",
        "\n",
        "# Fig and background\n",
        "fig, ax = plt.subplots(figsize=(8, 5), facecolor='white')\n",
        "ax.set_facecolor('#f8f9fa')\n",
        "\n",
        "# Bar graph with gradient colors\n",
        "bars = ax.bar(df_importance2_sorted['VARIABLE'],\n",
        "              df_importance2_sorted['IMPORTANCE'],\n",
        "              width=0.7)\n",
        "\n",
        "colors = sns.color_palette(\"flare\", n_colors=len(df_importance1_sorted))\n",
        "for bar, color in zip(bars, colors):\n",
        "    bar.set_color(color)\n",
        "\n",
        "# Axes\n",
        "ax.spines['top'].set_visible(False)\n",
        "ax.spines['right'].set_visible(False)\n",
        "ax.spines['left'].set_color('#666666')\n",
        "ax.spines['bottom'].set_color('#666666')\n",
        "\n",
        "# Grid\n",
        "ax.yaxis.grid(True, linestyle='--', alpha=0.7, color='#cccccc')\n",
        "ax.set_axisbelow(True)\n",
        "\n",
        "# Labels\n",
        "plt.xticks(rotation=45, ha='right')\n",
        "ax.tick_params(axis='both', which='major', labelsize=8, colors='#666666')  #\n",
        "\n",
        "plt.title(\"Variables Importance\",\n",
        "          fontsize=12,\n",
        "          pad=15,\n",
        "          fontweight='bold',\n",
        "          fontfamily='sans-serif',\n",
        "          color='#333333')\n",
        "\n",
        "\n",
        "# Show graph\n",
        "plt.tight_layout()\n",
        "plt.show()"
      ]
    },
    {
      "cell_type": "code",
      "execution_count": null,
      "metadata": {
        "colab": {
          "base_uri": "https://localhost:8080/",
          "height": 406
        },
        "id": "ZrWEt7OH5_04",
        "outputId": "6644aaab-35c1-4866-d541-1771321d583a"
      },
      "outputs": [
        {
          "data": {
            "image/png": "[encoded data removed]",
            "text/plain": [
              "<Figure size 1000x600 with 1 Axes>"
            ]
          },
          "metadata": {},
          "output_type": "display_data"
        }
      ],
      "source": [
        "# Plot differences between RT and RF Importance\n",
        "\n",
        "# Stile\n",
        "sns.set_theme(style=\"whitegrid\")\n",
        "\n",
        "# Fig.\n",
        "fig, ax = plt.subplots(figsize=(10, 6), facecolor='white')\n",
        "ax.set_facecolor('#f8f9fa')\n",
        "\n",
        "# Bar position\n",
        "x = np.arange(len(df_importance1['VARIABLE']))\n",
        "width = 0.35\n",
        "\n",
        "# Generate bar\n",
        "bars1 = ax.bar(x - width/2, df_importance1['IMPORTANCE'], width, label='RT',\n",
        "               color=sns.color_palette(\"husl\", 1))\n",
        "bars2 = ax.bar(x + width/2, df_importance2['IMPORTANCE'], width, label='RF',\n",
        "               color=sns.color_palette(\"husl\", 2)[1])\n",
        "\n",
        "# Axis\n",
        "ax.spines['top'].set_visible(False)\n",
        "ax.spines['right'].set_visible(False)\n",
        "ax.spines['left'].set_color('#666666')\n",
        "ax.spines['bottom'].set_color('#666666')\n",
        "\n",
        "# Grid\n",
        "ax.yaxis.grid(True, linestyle='--', alpha=0.7, color='#cccccc')\n",
        "ax.set_axisbelow(True)\n",
        "\n",
        "# LAbels\n",
        "ax.set_title('Diff. in IMPORTANCE elicitation between RT-RF', pad=20, fontweight='bold', color='#333333')\n",
        "ax.set_xticks(x)\n",
        "ax.set_xticklabels(df_importance1['VARIABLE'], rotation=45, ha='right')\n",
        "\n",
        "# Text color\n",
        "ax.tick_params(axis='both', colors='#666666')\n",
        "\n",
        "# Legend\n",
        "ax.legend()\n",
        "\n",
        "# Show Graph\n",
        "plt.tight_layout()\n",
        "plt.show()"
      ]
    },
    {
      "cell_type": "markdown",
      "metadata": {
        "id": "H2Wkgzj8yary"
      },
      "source": [
        "### Final Comments:\n",
        "\n",
        "\n",
        "So, as we can see, both of our models demand high complexity ('deep trees' = few minimum samples within nodes and no pruning in the case of random trees). What does this mean?\n",
        "\n",
        "As we mentioned before, these hyperparameters are designed to combat overfitting so that our results can generalize better (external validity).\n",
        "\n",
        "Nevertheless, in our case, it seems that this high level of complexity is acceptable. I couldn't find any significant meaning for this, but as long as we computed these hyperparameters using cross-validation methods, I think it should be fine.\n",
        "\n",
        "Also, concerning the last figure, it seems that directly comparing RT and RF classifier algorithms doesn't make much sense (primarily because RF is essentially a refinement of RT, but also due to their construction and the inherent lack of interpretability that surrounds any ML method ('black-box')). Therefore, we can use it as a visualization of differences, but it seems pointless to extract any deep insights from it.\n",
        "\n",
        "The comments on the implications of multicollinearity for these types of algorithms are similar to the previous ones. However, it is worth noting that in this case, as interpretability has completely disappeared (these algorithms are simply making decisions about splitting based purely on minimizing some loss function (RSS)), the issue of multicollinearity seems even more irrelevant."
      ]
    },
    {
      "cell_type": "markdown",
      "metadata": {
        "id": "asl1OAFb3VDt"
      },
      "source": [
        "## Which model will you use?\n"
      ]
    },
    {
      "cell_type": "code",
      "execution_count": null,
      "metadata": {
        "colab": {
          "base_uri": "https://localhost:8080/"
        },
        "id": "aGO04k33jHQg",
        "outputId": "f6d8b3e7-712c-41af-eeba-01fb4d4d73b4"
      },
      "outputs": [
        {
          "name": "stdout",
          "output_type": "stream",
          "text": [
            "MAE Table:\n",
            "+-------+----------+\n",
            "| Model |   MAE    |\n",
            "+-------+----------+\n",
            "|  RF   | 41829.03 |\n",
            "|  RT   | 49305.43 |\n",
            "| L2_2  | 66310.28 |\n",
            "| L1_2  | 66406.18 |\n",
            "| OLS_2 | 66476.8  |\n",
            "|  OLS  | 81680.32 |\n",
            "|  L1   | 81688.95 |\n",
            "+-------+----------+\n",
            "\n",
            "RMSE Table:\n",
            "+-------+-----------+\n",
            "| Model |   RMSE    |\n",
            "+-------+-----------+\n",
            "|  RF   |  71377.2  |\n",
            "| OLS_2 | 89874.36  |\n",
            "| L2_2  |  89875.8  |\n",
            "| L1_2  | 89888.13  |\n",
            "|  RT   |  92889.0  |\n",
            "|  OLS  | 108423.86 |\n",
            "|  L1   | 108428.16 |\n",
            "+-------+-----------+\n"
          ]
        }
      ],
      "source": [
        "\n",
        "# Crear diccionarios con los valores\n",
        "mae_values = {\n",
        "    \"Model\": [\"OLS\", \"OLS_2\", \"L1\", \"L1_2\", \"L2_2\", \"RT\", \"RF\"],\n",
        "    \"MAE\": [MAE_OLS, MAE_OLS2, MAE_L1, MAE_L1_2, MAE_L2, MAE_RT, MAE_RF],\n",
        "}\n",
        "\n",
        "rmse_values = {\n",
        "    \"Model\": [\"OLS\", \"OLS_2\", \"L1\", \"L1_2\", \"L2_2\", \"RT\", \"RF\"],\n",
        "    \"RMSE\": [RMSE_OLS, RMSE_OLS2, RMSE_L1, RMSE_L1_2, RMSE_L2, RMSE_RT, RMSE_RF],\n",
        "}\n",
        "\n",
        "# Convertir a DataFrames\n",
        "df_mae = pd.DataFrame(mae_values)\n",
        "df_rmse = pd.DataFrame(rmse_values)\n",
        "\n",
        "# Ordenar las tablas por los valores\n",
        "df_mae = df_mae.sort_values(by=\"MAE\", ascending=True).reset_index(drop=True)\n",
        "df_rmse = df_rmse.sort_values(by=\"RMSE\", ascending=True).reset_index(drop=True)\n",
        "\n",
        "# Mostrar las tablas\n",
        "print(\"MAE Table:\")\n",
        "print(tabulate(df_mae.round(2), headers=\"keys\", tablefmt=\"pretty\", showindex=False))\n",
        "\n",
        "print(\"\\nRMSE Table:\")\n",
        "print(tabulate(df_rmse.round(2), headers=\"keys\", tablefmt=\"pretty\", showindex=False))\n"
      ]
    },
    {
      "cell_type": "markdown",
      "metadata": {
        "id": "hygtE6IK3vg5"
      },
      "source": [
        "\n",
        "\n",
        "The decision is all about selecting the best predictor, and based on our two ways of measuring prediction accuracy (RMSE and MAE), our selected model has to be the RF model.\n"
      ]
    },
    {
      "cell_type": "markdown",
      "metadata": {
        "id": "_EMPyvjd3xVw"
      },
      "source": [
        "---"
      ]
    },
    {
      "cell_type": "markdown",
      "metadata": {
        "id": "aalgEbkr5-u4"
      },
      "source": [
        "# Problem 2: Financial Investment"
      ]
    },
    {
      "cell_type": "markdown",
      "metadata": {
        "id": "ADo_xUO191pV"
      },
      "source": [
        "* This problem is **optional**. Completing it will give you 1 extra point."
      ]
    },
    {
      "cell_type": "markdown",
      "metadata": {
        "id": "k3KGtsX_AyGR"
      },
      "source": [
        "* We are interested in estimating the effect of participation in 401(k) pension plans on employees’ net financial assets. The dataset [pension.csv](https://raw.githubusercontent.com/albarran/00datos/refs/heads/main/pension.csv) contains information about net financial assets (*net_tfa*) and participation in a 401(k) plan (*p401*), along with several additional individual characteristics: age, income, education, family size, marital status, having two earners in the household, having a defined benefit (DB) pension (a type of retirement plan where an employer guarantees a specified retirement amount), participation in an IRA (Individual Retirement Account, a type of retirement savings account with tax advantages), and homeownership. You can find more information about the variables [here](https://search.r-project.org/CRAN/refmans/hdm/html/pension.html).\n",
        "\n",
        "* Since saving preferences (which are unobservable) can directly affect net asset holdings and the decision to participate, and may also be correlated with observable characteristics (e.g., income), participation in 401(k) plans can be endogenous. However, it is possible to exploit randomness (conditional on confounding variables) in eligibility for 401(k) plans (*e401*). An instrumental variable (IV) approach could be used to estimate the causal effect, but in this case, we will focus on estimating the intention-to-treat effect.\n"
      ]
    },
    {
      "cell_type": "markdown",
      "metadata": {
        "id": "2VchHmGIlc9l"
      },
      "source": [
        "* Load the data and check the variables types."
      ]
    },
    {
      "cell_type": "code",
      "source": [
        "# Libraries that will be used in this part 2.\n",
        "\n",
        "\n",
        "import matplotlib.pyplot as plt\n",
        "import seaborn as sns\n",
        "import numpy as np\n",
        "import pandas as pd\n",
        "\n",
        "import statsmodels.api as sm\n",
        "import statsmodels.formula.api as smf # importing models\n",
        "\n",
        "!pip install -U DoubleML # Double Lasso regression\n",
        "from doubleml import DoubleMLData # Double Lasso regression\n",
        "from doubleml import DoubleMLPLR # Double Lasso regression\n",
        "\n",
        "from sklearn.linear_model import LassoCV # CV in LASSO\n",
        "\n",
        "from sklearn.ensemble import RandomForestRegressor # Random Forest for Machine Labor#\n",
        "\n",
        "from sklearn.base import clone # ?\n",
        "\n",
        "from sklearn.pipeline import make_pipeline # Preprocessing\n",
        "from sklearn.pipeline import Pipeline #Pre-Processing\n",
        "from sklearn.preprocessing import PolynomialFeatures, StandardScaler #Pre-processing\n",
        "\n",
        "from tabulate import tabulate # beautify prints"
      ],
      "metadata": {
        "colab": {
          "base_uri": "https://localhost:8080/"
        },
        "id": "PutYN7SWVO1h",
        "outputId": "e0bea2fc-c751-4f10-f061-80b4e9552eb5"
      },
      "execution_count": null,
      "outputs": [
        {
          "output_type": "stream",
          "name": "stdout",
          "text": [
            "Requirement already satisfied: DoubleML in /usr/local/lib/python3.10/dist-packages (0.9.1)\n",
            "Requirement already satisfied: joblib in /usr/local/lib/python3.10/dist-packages (from DoubleML) (1.4.2)\n",
            "Requirement already satisfied: numpy in /usr/local/lib/python3.10/dist-packages (from DoubleML) (1.26.4)\n",
            "Requirement already satisfied: pandas in /usr/local/lib/python3.10/dist-packages (from DoubleML) (2.2.2)\n",
            "Requirement already satisfied: scipy in /usr/local/lib/python3.10/dist-packages (from DoubleML) (1.13.1)\n",
            "Requirement already satisfied: scikit-learn<1.6.0,>=1.4.0 in /usr/local/lib/python3.10/dist-packages (from DoubleML) (1.5.2)\n",
            "Requirement already satisfied: statsmodels in /usr/local/lib/python3.10/dist-packages (from DoubleML) (0.14.4)\n",
            "Requirement already satisfied: plotly in /usr/local/lib/python3.10/dist-packages (from DoubleML) (5.24.1)\n",
            "Requirement already satisfied: threadpoolctl>=3.1.0 in /usr/local/lib/python3.10/dist-packages (from scikit-learn<1.6.0,>=1.4.0->DoubleML) (3.5.0)\n",
            "Requirement already satisfied: python-dateutil>=2.8.2 in /usr/local/lib/python3.10/dist-packages (from pandas->DoubleML) (2.8.2)\n",
            "Requirement already satisfied: pytz>=2020.1 in /usr/local/lib/python3.10/dist-packages (from pandas->DoubleML) (2024.2)\n",
            "Requirement already satisfied: tzdata>=2022.7 in /usr/local/lib/python3.10/dist-packages (from pandas->DoubleML) (2024.2)\n",
            "Requirement already satisfied: tenacity>=6.2.0 in /usr/local/lib/python3.10/dist-packages (from plotly->DoubleML) (9.0.0)\n",
            "Requirement already satisfied: packaging in /usr/local/lib/python3.10/dist-packages (from plotly->DoubleML) (24.2)\n",
            "Requirement already satisfied: patsy>=0.5.6 in /usr/local/lib/python3.10/dist-packages (from statsmodels->DoubleML) (1.0.1)\n",
            "Requirement already satisfied: six>=1.5 in /usr/local/lib/python3.10/dist-packages (from python-dateutil>=2.8.2->pandas->DoubleML) (1.17.0)\n"
          ]
        }
      ]
    },
    {
      "cell_type": "code",
      "execution_count": null,
      "metadata": {
        "id": "abhQ4R9C-fWZ"
      },
      "outputs": [],
      "source": [
        "# URL de la base de datos\n",
        "url = \"https://raw.githubusercontent.com/albarran/00datos/refs/heads/main/pension.csv\"\n",
        "pension = pd.read_csv(url)"
      ]
    },
    {
      "cell_type": "code",
      "execution_count": null,
      "metadata": {
        "colab": {
          "base_uri": "https://localhost:8080/"
        },
        "id": "JCQI5-v9TZQp",
        "outputId": "286dda83-1005-48f6-fb66-3b3ffba45b88"
      },
      "outputs": [
        {
          "output_type": "stream",
          "name": "stdout",
          "text": [
            "+----------+---------+\n",
            "|  Column  |  Dtype  |\n",
            "+----------+---------+\n",
            "|   ira    |  int64  |\n",
            "|   a401   |  int64  |\n",
            "|   hval   |  int64  |\n",
            "|  hmort   |  int64  |\n",
            "| hequity  |  int64  |\n",
            "|   nifa   |  int64  |\n",
            "| net_nifa |  int64  |\n",
            "|   tfa    |  int64  |\n",
            "| net_tfa  |  int64  |\n",
            "|  tfa_he  |  int64  |\n",
            "|    tw    |  int64  |\n",
            "|   age    |  int64  |\n",
            "|   inc    |  int64  |\n",
            "|  fsize   |  int64  |\n",
            "|   educ   |  int64  |\n",
            "|    db    |  int64  |\n",
            "|   marr   |  int64  |\n",
            "|   male   |  int64  |\n",
            "| twoearn  |  int64  |\n",
            "|  dum91   |  int64  |\n",
            "|   e401   |  int64  |\n",
            "|   p401   |  int64  |\n",
            "|   pira   |  int64  |\n",
            "|   nohs   |  int64  |\n",
            "|    hs    |  int64  |\n",
            "|  smcol   |  int64  |\n",
            "|   col    |  int64  |\n",
            "|   icat   |  int64  |\n",
            "|   ecat   |  int64  |\n",
            "|   zhat   | float64 |\n",
            "| net_n401 |  int64  |\n",
            "|   hown   |  int64  |\n",
            "|    i1    |  int64  |\n",
            "|    i2    |  int64  |\n",
            "|    i3    |  int64  |\n",
            "|    i4    |  int64  |\n",
            "|    i5    |  int64  |\n",
            "|    i6    |  int64  |\n",
            "|    i7    |  int64  |\n",
            "|    a1    |  int64  |\n",
            "|    a2    |  int64  |\n",
            "|    a3    |  int64  |\n",
            "|    a4    |  int64  |\n",
            "|    a5    |  int64  |\n",
            "+----------+---------+\n"
          ]
        }
      ],
      "source": [
        "  # Create a DataFrame with column names and data types from censu.info()\n",
        "pension_info = pd.DataFrame({\n",
        "    'Column': pension.columns,\n",
        "    'Dtype': [str(pension[col].dtype) for col in pension.columns]  # Data types\n",
        "})\n",
        "\n",
        "# print(tabulate(pension_info, headers=\"keys\", tablefmt=\"pretty\",showindex=False))"
      ]
    },
    {
      "cell_type": "code",
      "execution_count": null,
      "metadata": {
        "colab": {
          "base_uri": "https://localhost:8080/"
        },
        "id": "ydfzWjKtNNdw",
        "outputId": "a3831c29-a08e-4a5f-de78-fbe8a087cb9a"
      },
      "outputs": [
        {
          "output_type": "stream",
          "name": "stdout",
          "text": [
            "+----------+-------------------------------------+\n",
            "| Variable |             Description             |\n",
            "+----------+-------------------------------------+\n",
            "|   p401   |       Participation in 401(k)       |\n",
            "|   e401   |       Eligibility for 401(k)        |\n",
            "|   a401   |            401(k) assets            |\n",
            "|    tw    |       Total wealth (in US $)        |\n",
            "|   tfa    |     Financial assets (in US $)      |\n",
            "| net_tfa  |   Net financial assets (in US $)    |\n",
            "|   nifa   | Non-401k financial assets (in US $) |\n",
            "| net_nifa |    Net non-401k financial assets    |\n",
            "| net_n401 |   Net non-401(k) assets (in US $)   |\n",
            "|   ira    | Individual retirement account (IRA) |\n",
            "|   inc    |          Income (in US $)           |\n",
            "|   age    |                 Age                 |\n",
            "|  fsize   |             Family size             |\n",
            "|   marr   |               Married               |\n",
            "|   pira   |        Participation in IRA         |\n",
            "|    db    |       Defined benefit pension       |\n",
            "|   hown   |             Home owner              |\n",
            "|   educ   |        Education (in years)         |\n",
            "|   male   |                Male                 |\n",
            "| twoearn  |             Two earners             |\n",
            "|   nohs   | Dummy for education: no high-school |\n",
            "|    hs    |  Dummy for education: high-school   |\n",
            "|  smcol   |  Dummy for education: some college  |\n",
            "|   col    |    Dummy for education: college     |\n",
            "|  hmort   |       Home mortgage (in US $)       |\n",
            "| hequity  |        Home equity (in US $)        |\n",
            "|   hval   |        Home value (in US $)         |\n",
            "+----------+-------------------------------------+\n"
          ]
        }
      ],
      "source": [
        "data = {\n",
        "    \"Variable\": [\n",
        "        \"p401\", \"e401\", \"a401\", \"tw\", \"tfa\", \"net_tfa\", \"nifa\", \"net_nifa\", \"net_n401\",\n",
        "        \"ira\", \"inc\", \"age\", \"fsize\", \"marr\", \"pira\", \"db\", \"hown\", \"educ\", \"male\",\n",
        "        \"twoearn\", \"nohs\", \"hs\", \"smcol\", \"col\", \"hmort\", \"hequity\", \"hval\"\n",
        "    ],\n",
        "    \"Description\": [\n",
        "        \"Participation in 401(k)\", \"Eligibility for 401(k)\", \"401(k) assets\",\n",
        "        \"Total wealth (in US $)\", \"Financial assets (in US $)\",\n",
        "        \"Net financial assets (in US $)\", \"Non-401k financial assets (in US $)\",\n",
        "        \"Net non-401k financial assets\", \"Net non-401(k) assets (in US $)\",\n",
        "        \"Individual retirement account (IRA)\", \"Income (in US $)\", \"Age\",\n",
        "        \"Family size\", \"Married\", \"Participation in IRA\", \"Defined benefit pension\",\n",
        "        \"Home owner\", \"Education (in years)\", \"Male\", \"Two earners\",\n",
        "        \"Dummy for education: no high-school\", \"Dummy for education: high-school\",\n",
        "        \"Dummy for education: some college\", \"Dummy for education: college\",\n",
        "        \"Home mortgage (in US $)\", \"Home equity (in US $)\", \"Home value (in US $)\"\n",
        "    ]\n",
        "}\n",
        "\n",
        "df = pd.DataFrame(data)\n",
        "\n",
        "print(tabulate(df, headers=\"keys\", tablefmt=\"pretty\",showindex=False))\n"
      ]
    },
    {
      "cell_type": "markdown",
      "metadata": {
        "id": "UP_e2swp-m_U"
      },
      "source": [
        "## OLS"
      ]
    },
    {
      "cell_type": "markdown",
      "source": [
        "### Model elicitation:\n",
        "\n",
        "$$\\begin{equation}\n",
        "\\text{net_tfa} = \\beta_0 + \\beta_1 \\text{e401} + \\beta_2 \\text{age} + \\beta_3 \\text{inc} + \\beta_4 \\text{fsize} + \\beta_5 \\text{marr} + \\beta_6 \\text{hown} + \\beta_7 \\text{ira} + \\beta_8 \\text{db} + \\beta_9 \\text{nohs} + \\beta_{10} \\text{hs} + \\beta_{11} \\text{smcol} + \\epsilon\n",
        "\\end{equation}\n",
        "$$\n",
        "\n",
        "Where:\n",
        "\n",
        "\n",
        "* net_tfa: Net financial assets\n",
        "\n",
        "* e401: Elicitation for 401(k) plan\n",
        "* age: Age of the individual\n",
        "* male: gender\n",
        "* inc: Income of the individual\n",
        "* fsize: Family size\n",
        "* Dummy variables:\n",
        "  * marr: Marital status\n",
        "  * hown: Homeownership status\n",
        "  * ira: Participation in an IRA (other plans)\n",
        "  * db: Defined benefit pension (other plans)\n",
        "  * nohs: no high school diploma\n",
        "  * hs: high school graduate\n",
        "  * smcol: some college\n",
        "  * col: college graduate (reference dummy)\n",
        "\n",
        "Comments:\n",
        "\n",
        "* We use categorical education to control for divergenses between levels instead of treating education as a continuos path (where we have to include upper degrees to control for no linear relationships)\n",
        "\n",
        "* Also could be interesting to study some differences withing the effects of some variables on the 401k participation adding some interactions (but we will leave it like this)\n",
        "\n"
      ],
      "metadata": {
        "id": "chjM6YyVVY7M"
      }
    },
    {
      "cell_type": "code",
      "execution_count": null,
      "metadata": {
        "colab": {
          "base_uri": "https://localhost:8080/"
        },
        "id": "48QHDskV-m_Z",
        "outputId": "62429226-3df0-4684-ae06-3d539eca2673"
      },
      "outputs": [
        {
          "output_type": "stream",
          "name": "stdout",
          "text": [
            "==============================================================================\n",
            "                 coef    std err          t      P>|t|      [0.025      0.975]\n",
            "------------------------------------------------------------------------------\n",
            "Intercept  -3.095e+04   2904.059    -10.658      0.000   -3.66e+04   -2.53e+04\n",
            "e401        6440.9114   1209.076      5.327      0.000    4070.875    8810.947\n",
            "age          496.9634     58.145      8.547      0.000     382.988     610.939\n",
            "male         272.0998   1467.283      0.185      0.853   -2604.073    3148.273\n",
            "inc            0.7229      0.029     24.957      0.000       0.666       0.780\n",
            "fsize       -435.6236    440.593     -0.989      0.323   -1299.275     428.028\n",
            "marr       -1.143e+04   1529.463     -7.476      0.000   -1.44e+04   -8436.762\n",
            "hown        1841.4929   1274.826      1.445      0.149    -657.425    4340.411\n",
            "ira            2.2595      0.062     36.291      0.000       2.137       2.382\n",
            "db         -6738.8787   1297.987     -5.192      0.000   -9283.197   -4194.561\n",
            "nohs        1946.7605   2093.685      0.930      0.352   -2157.288    6050.809\n",
            "hs           449.2278   1521.289      0.295      0.768   -2532.808    3431.263\n",
            "smcol       -676.2212   1588.708     -0.426      0.670   -3790.411    2437.969\n",
            "==============================================================================\n"
          ]
        }
      ],
      "source": [
        "formula = 'net_tfa ~ e401 + age + male + inc + fsize + marr + hown + ira + db + nohs + hs + smcol'\n",
        "\n",
        "#print(formula)\n",
        "\n",
        "est = smf.ols(formula=formula, data=pension).fit()\n",
        "print(est.summary().tables[1])"
      ]
    },
    {
      "cell_type": "markdown",
      "metadata": {
        "id": "51_0gMCl-m_b"
      },
      "source": [
        "\n",
        "### Comments:\n",
        "\n",
        "* It seems that the ITT effect of participation in the 401k plan is an increase of 6440.91 (Ceteris paribus) in mean of the net financial assets.\n",
        "\n",
        "* There are no statistically significant differents between education-level groups so maybe is better idea to use education as a continuous variable instead.\n",
        "\n",
        "* Also male, hown and fsize seems not to be statistically significant so we can considere to remove these (I will try to use the equity of the house rather than the property; as hown = 0 then hequity = 0)\n",
        "\n",
        "\n",
        "Let's adjust our previous model as:\n",
        "\n"
      ]
    },
    {
      "cell_type": "code",
      "source": [
        "formula2 = 'net_tfa ~ e401 + age + inc + marr + twoearn + hequity + ira + db + educ'\n",
        "\n",
        "#print(formula2)\n",
        "\n",
        "est = smf.ols(formula=formula2, data=pension).fit()\n",
        "print(est.summary().tables[1])"
      ],
      "metadata": {
        "colab": {
          "base_uri": "https://localhost:8080/"
        },
        "id": "7-erytiQbsgS",
        "outputId": "8ad7822a-06d0-478a-e8f3-586646ecc7bb"
      },
      "execution_count": null,
      "outputs": [
        {
          "output_type": "stream",
          "name": "stdout",
          "text": [
            "==============================================================================\n",
            "                 coef    std err          t      P>|t|      [0.025      0.975]\n",
            "------------------------------------------------------------------------------\n",
            "Intercept  -1.928e+04   3896.001     -4.948      0.000   -2.69e+04   -1.16e+04\n",
            "e401        6764.4792   1191.634      5.677      0.000    4428.633    9100.325\n",
            "age          288.6304     57.603      5.011      0.000     175.716     401.545\n",
            "inc            0.7557      0.030     25.590      0.000       0.698       0.814\n",
            "marr       -3403.1117   1518.785     -2.241      0.025   -6380.240    -425.984\n",
            "twoearn    -1.667e+04   1511.071    -11.030      0.000   -1.96e+04   -1.37e+04\n",
            "hequity        0.1035      0.012      8.638      0.000       0.080       0.127\n",
            "ira            2.1551      0.062     34.657      0.000       2.033       2.277\n",
            "db         -4019.0628   1299.228     -3.093      0.002   -6565.813   -1472.312\n",
            "educ        -499.0902    215.150     -2.320      0.020    -920.828     -77.353\n",
            "==============================================================================\n"
          ]
        }
      ]
    },
    {
      "cell_type": "markdown",
      "source": [
        "#### New Comments:\n",
        "\n",
        "* Now educ is statistically significant for all normal values beyond 1%\n",
        "\n",
        "* Now marr becoms stadistically no significant, maybe it is due to that before it was absorbing the effect of twoearn (wether both spouse percive income)\n",
        "\n",
        "* hequity is statistically significant\n",
        "\n",
        "Let's adjust the model, but I would like to intriduce cuadratic effects on educ:"
      ],
      "metadata": {
        "id": "Za3YlK75c5fS"
      }
    },
    {
      "cell_type": "code",
      "source": [
        "# Adding squared values\n",
        "pension['educ_sq'] = pension['educ'] ** 2\n",
        "\n",
        "#Computing model\n",
        "formula3 = 'net_tfa ~ e401 + age + inc + twoearn + hequity + ira + db + educ + educ_sq '\n",
        "\n",
        "#print(formula3)\n",
        "\n",
        "est = smf.ols(formula=formula3, data=pension).fit()\n",
        "print(est.summary().tables[1])"
      ],
      "metadata": {
        "colab": {
          "base_uri": "https://localhost:8080/"
        },
        "id": "lA-W01vjfRhs",
        "outputId": "34d41e5b-161c-4198-d36d-2ce79c133c92"
      },
      "execution_count": null,
      "outputs": [
        {
          "output_type": "stream",
          "name": "stdout",
          "text": [
            "==============================================================================\n",
            "                 coef    std err          t      P>|t|      [0.025      0.975]\n",
            "------------------------------------------------------------------------------\n",
            "Intercept  -1.405e+04   6349.946     -2.212      0.027   -2.65e+04   -1598.212\n",
            "e401        6753.0202   1191.957      5.665      0.000    4416.542    9089.498\n",
            "age          286.2146     57.596      4.969      0.000     173.315     399.114\n",
            "inc            0.7376      0.029     25.122      0.000       0.680       0.795\n",
            "twoearn    -1.844e+04   1244.918    -14.815      0.000   -2.09e+04    -1.6e+04\n",
            "hequity        0.1015      0.012      8.501      0.000       0.078       0.125\n",
            "ira            2.1490      0.062     34.550      0.000       2.027       2.271\n",
            "db         -3439.0326   1265.298     -2.718      0.007   -5919.275    -958.790\n",
            "educ       -1649.3971    908.522     -1.815      0.069   -3430.286     131.492\n",
            "educ_sq       50.9355     36.507      1.395      0.163     -20.625     122.496\n",
            "==============================================================================\n"
          ]
        }
      ]
    },
    {
      "cell_type": "markdown",
      "source": [
        "##### New new Comments:\n",
        "\n",
        "* It looks like squared term of educ is not statistically significant. This is not like the usuall case when adding higher order terms results in lower dimension losing their significance; in this case is the higher one the one that has lose it, so even though we will not do a joint significance test we'll be not using the squared term and assume (base on this result) that education has in fact a linear effect.\n",
        "\n",
        "Then our trully final regression will be:\n",
        "\n",
        "## Model elicitation:\n",
        "\n",
        "$$\\begin{equation}\n",
        "\\text{net_tfa} = \\beta_0 + \\beta_1 \\text{e401} + \\beta_2 \\text{age} + \\beta_3 \\text{inc} + \\beta_4 \\text{twoearn} +\\beta_5 \\text{hequity} + \\beta_6 \\text{ira} + \\beta_7 \\text{db} + \\beta_8 \\text{educ} + \\epsilon\n",
        "\\end{equation}\n",
        "$$\n",
        "\n",
        "Where:\n",
        "\n",
        "\n",
        "* net_tfa: Net financial assets\n",
        "\n",
        "\n",
        "* e401: Elicitation for 401(k) plan\n",
        "* age: Age of the individual\n",
        "* inc: Income of the individual\n",
        "* educ: education level (years)\n",
        "* hequity: home equity\n",
        "* Dummy variables:\n",
        "  * twoearn: both spouse percive income  \n",
        "  * ira: Participation in an IRA\n",
        "  * db: Defined benefit pension\n",
        "  \n"
      ],
      "metadata": {
        "id": "lwdxVF7rgUFw"
      }
    },
    {
      "cell_type": "code",
      "source": [
        "#Computing model\n",
        "formula4 = 'net_tfa ~ e401 + age + inc + twoearn + hequity + ira + db+ educ'\n",
        "\n",
        "#print(formula3)\n",
        "\n",
        "est = smf.ols(formula=formula4, data=pension).fit()\n",
        "print(est.summary().tables[1])\n",
        "\n",
        "# Extract coeficient\n",
        "coef_e401_OLS = est.params['e401']"
      ],
      "metadata": {
        "colab": {
          "base_uri": "https://localhost:8080/"
        },
        "id": "dGA37NMKjOJN",
        "outputId": "226e15ad-2eb6-470e-eeb4-d94cd4f271e0"
      },
      "execution_count": null,
      "outputs": [
        {
          "output_type": "stream",
          "name": "stdout",
          "text": [
            "==============================================================================\n",
            "                 coef    std err          t      P>|t|      [0.025      0.975]\n",
            "------------------------------------------------------------------------------\n",
            "Intercept  -2.114e+04   3807.596     -5.551      0.000   -2.86e+04   -1.37e+04\n",
            "e401        6711.4164   1191.641      5.632      0.000    4375.558    9047.275\n",
            "age          284.4389     57.585      4.939      0.000     171.561     397.316\n",
            "inc            0.7436      0.029     25.606      0.000       0.687       0.801\n",
            "twoearn     -1.86e+04   1239.662    -15.007      0.000    -2.1e+04   -1.62e+04\n",
            "hequity        0.1011      0.012      8.468      0.000       0.078       0.125\n",
            "ira            2.1515      0.062     34.603      0.000       2.030       2.273\n",
            "db         -3335.8256   1263.195     -2.641      0.008   -5811.944    -859.707\n",
            "educ        -416.7989    212.035     -1.966      0.049    -832.431      -1.167\n",
            "==============================================================================\n"
          ]
        }
      ]
    },
    {
      "cell_type": "markdown",
      "source": [
        "Then after some modifications our final result say that the ITT effect of participation in the 401k plan is an increase of 6711.4 (Ceteris paribus) in mean of the net financial assets."
      ],
      "metadata": {
        "id": "WS5oPrOxmGH0"
      }
    },
    {
      "cell_type": "markdown",
      "metadata": {
        "id": "q8BlMUvxAnkC"
      },
      "source": [
        "## LASSO"
      ]
    },
    {
      "cell_type": "code",
      "execution_count": null,
      "metadata": {
        "colab": {
          "base_uri": "https://localhost:8080/"
        },
        "id": "2M1g4CZ3AjWF",
        "outputId": "7ec199a6-9f6c-457f-a6b9-d1e0fd9431bb"
      },
      "outputs": [
        {
          "output_type": "stream",
          "name": "stdout",
          "text": [
            "+-----------+-------------+\n",
            "| Variables | Coeficients |\n",
            "+-----------+-------------+\n",
            "|           |             |\n",
            "| Intercept | 18051.5348  |\n",
            "|           |             |\n",
            "|   e401    |  3208.1954  |\n",
            "|    age    |  2932.582   |\n",
            "|    inc    | 18367.0569  |\n",
            "|  twoearn  | -8978.8043  |\n",
            "|  hequity  |  5231.6873  |\n",
            "|    ira    | 20742.7508  |\n",
            "|    db     | -1447.0481  |\n",
            "|   educ    | -1124.1308  |\n",
            "+-----------+-------------+\n"
          ]
        }
      ],
      "source": [
        "# Computing LASSO with optimal alpha:\n",
        "\n",
        "X = pension[['e401', 'age', 'inc', 'twoearn', 'hequity', 'ira', 'db', 'educ']]\n",
        "y = pension['net_tfa']\n",
        "\n",
        "## preprocessing\n",
        "steps = [('scale', StandardScaler()),\n",
        "         ('poly', PolynomialFeatures(1, include_bias=False)), # erase first constant column, due to Polynomial of '0 degree'\n",
        "         ('lasso', LassoCV(max_iter=100000))]\n",
        "pipe  = Pipeline(steps)\n",
        "\n",
        "## fitting\n",
        "pipe.fit(X, y)\n",
        "\n",
        "# Showing results\n",
        "\n",
        "intercept = pipe[2].intercept_.round(4)\n",
        "coef = pipe[2].coef_.round(4)\n",
        "\n",
        "tabla_coeficients = pd.DataFrame({\n",
        "    \"Variables\": [''] +[\"Intercept\"] +[''] + ['e401', 'age', 'inc', 'twoearn' ,'hequity', 'ira', 'db', 'educ'],\n",
        "    \"Coeficients\":[''] + [intercept] + [''] + list(coef)\n",
        "})\n",
        "\n",
        "print(tabulate(tabla_coeficients, headers=\"keys\", tablefmt=\"pretty\",showindex=False))\n"
      ]
    },
    {
      "cell_type": "markdown",
      "source": [
        "\n",
        "### Comments:\n",
        "\n",
        "Here we are using LASSO to compute this regression, but as long as I know this coefficients are less interpretable also non comparable to the ones of OLS do to the standarization.\n",
        "\n",
        "So I don't think much can be say about this one or their coefficients' implication on causal effects."
      ],
      "metadata": {
        "id": "UwdpboUfw_vF"
      }
    },
    {
      "cell_type": "markdown",
      "metadata": {
        "id": "QJYEUIWfU1t0"
      },
      "source": [
        "## Double-Selection LASSO\n",
        "\n"
      ]
    },
    {
      "cell_type": "code",
      "execution_count": null,
      "metadata": {
        "colab": {
          "base_uri": "https://localhost:8080/"
        },
        "id": "LV0c_3ldB854",
        "outputId": "276dca06-a140-49e7-c06e-02be7496ad87"
      },
      "outputs": [
        {
          "output_type": "stream",
          "name": "stdout",
          "text": [
            "================== DoubleMLData Object ==================\n",
            "\n",
            "------------------ Data summary      ------------------\n",
            "Outcome variable: net_tfa\n",
            "Treatment variable(s): ['e401']\n",
            "Covariates: ['age', 'inc', 'twoearn', 'hequity', 'ira', 'db', 'educ']\n",
            "Instrument variable(s): None\n",
            "No. Observations: 9915\n",
            "\n",
            "------------------ DataFrame info    ------------------\n",
            "<class 'pandas.core.frame.DataFrame'>\n",
            "RangeIndex: 9915 entries, 0 to 9914\n",
            "Columns: 45 entries, ira to educ_sq\n",
            "dtypes: float64(1), int64(44)\n",
            "memory usage: 3.4 MB\n",
            "\n"
          ]
        }
      ],
      "source": [
        "x_names = [ 'age', 'inc', 'twoearn', 'hequity', 'ira', 'db', 'educ']\n",
        "\n",
        "# Generate object DoubleMLData\n",
        "dml_pension = DoubleMLData(pension,\n",
        "                          y_col='net_tfa',      # Dependent variable\n",
        "                          d_cols='e401',        # Treatment varible\n",
        "                          x_cols=x_names)       # Covariates\n",
        "\n",
        "# Print to see features of the object\n",
        "print(dml_pension)"
      ]
    },
    {
      "cell_type": "code",
      "execution_count": null,
      "metadata": {
        "colab": {
          "base_uri": "https://localhost:8080/"
        },
        "id": "xKOqv_-BC9RD",
        "outputId": "a9502693-27de-4133-872e-c61084126cdf"
      },
      "outputs": [
        {
          "output_type": "stream",
          "name": "stdout",
          "text": [
            "================== DoubleMLPLR Object ==================\n",
            "\n",
            "------------------ Data summary      ------------------\n",
            "Outcome variable: net_tfa\n",
            "Treatment variable(s): ['e401']\n",
            "Covariates: ['age', 'inc', 'twoearn', 'hequity', 'ira', 'db', 'educ']\n",
            "Instrument variable(s): None\n",
            "No. Observations: 9915\n",
            "\n",
            "------------------ Score & algorithm ------------------\n",
            "Score function: partialling out\n",
            "\n",
            "------------------ Machine learner   ------------------\n",
            "Learner ml_l: Pipeline(steps=[('standardscaler', StandardScaler()),\n",
            "                ('lassocv', LassoCV(max_iter=100000))])\n",
            "Learner ml_m: Pipeline(steps=[('standardscaler', StandardScaler()),\n",
            "                ('lassocv', LassoCV(max_iter=100000))])\n",
            "Out-of-sample Performance:\n",
            "Regression:\n",
            "Learner ml_l RMSE: [[53582.23289072]]\n",
            "Learner ml_m RMSE: [[0.44963112]]\n",
            "\n",
            "------------------ Resampling        ------------------\n",
            "No. folds: 5\n",
            "No. repeated sample splits: 1\n",
            "\n",
            "------------------ Fit summary       ------------------\n",
            "             coef      std err         t     P>|t|        2.5 %       97.5 %\n",
            "e401  6727.052705  1518.164187  4.431044  0.000009  3751.505577  9702.599833\n"
          ]
        }
      ],
      "source": [
        "#First, just double selection LASSO\n",
        "\n",
        "# learner = clone(LassoCV())\n",
        "learner = clone(make_pipeline(StandardScaler(), LassoCV(max_iter=100000)))\n",
        "\n",
        "y_model = learner\n",
        "d_model = learner\n",
        "\n",
        "np.random.seed(42)\n",
        "\n",
        "obj_dml_pension = DoubleMLPLR(dml_pension, y_model, d_model)\n",
        "\n",
        "obj_dml_pension.fit()\n",
        "\n",
        "print(obj_dml_pension)\n",
        "\n",
        "# ------------------ Fit summary       ------------------\n",
        "#            coef      std err         t     P>|t|        2.5 %       97.5 %\n",
        "# e401  6727.052705  1518.164187  4.431044  0.000009  3751.505577  9702.599833\n",
        "\n",
        "\n",
        "# Extract coeficient\n",
        "coef_e401_DSlasso = obj_dml_pension.coef[0]"
      ]
    },
    {
      "cell_type": "markdown",
      "source": [
        "### Comments:\n",
        "\n",
        "Okey now we introduce this Double-selection Lasso where (from what i have understand) we somehow exclude our treatment variable from the LASSO selection contest and fit a model (common OLS ; maybe this is why the result now seems to be interpretable/comparable, '6727.05' (not as in the mere LASSO case)) where only the survivors (the ones with relevance from Lasso point of view) of both variables regression, the dependent and the treatment one are  inlcuded.\n",
        "\n",
        "* \"__First step__: Regress $Y_i$ on ${X}_i$ and $D_i$ on ${X}_i$:\"\n",
        "* \"__Second step__: Refit the model by OLS and include the $\\mathbf{X}$'s that are significant predictors of $Y_i$ _and_ $D_i$.\"\n",
        "\n",
        "~ From class notebook\n",
        "\n",
        "Then if this is the case, why not to put all the variables and let the double-selection to elicitate the variables for us? (in contrast to what we have done in OLS case):\n"
      ],
      "metadata": {
        "id": "oynB71m_xDhd"
      }
    },
    {
      "cell_type": "code",
      "source": [
        "# Using all aour variables\n",
        "\n",
        "x_names_all = ['a401', 'tw', 'tfa', 'nifa', 'net_nifa',\n",
        "    'net_n401', 'ira', 'inc', 'age', 'fsize', 'marr', 'pira', 'db',\n",
        "    'hown', 'educ', 'male', 'twoearn', 'nohs', 'hs', 'smcol', 'col',\n",
        "    'hmort', 'hequity', 'hval'\n",
        "]\n",
        "\n",
        "\n",
        "\n",
        "# Generate object DoubleMLData including all\n",
        "dml_pension_all = DoubleMLData(pension,\n",
        "                          y_col='net_tfa',      # Dependent variable\n",
        "                          d_cols='e401',        # Treatment varible\n",
        "                          x_cols=x_names_all)       # Covariates\n",
        "\n",
        "#double selection LASSO\n",
        "\n",
        "\n",
        "np.random.seed(42)\n",
        "obj_dml_pension_all = DoubleMLPLR(dml_pension_all, y_model, d_model)\n",
        "\n",
        "obj_dml_pension_all.fit()\n",
        "\n",
        "#Show results\n",
        "print(obj_dml_pension_all)\n",
        "\n",
        "#------------------ Fit summary       ------------------\n",
        "#           coef    std err         t     P>|t|       2.5 %     97.5 %\n",
        "# e401 -38.302375  51.445393 -0.744525  0.456559 -139.133494  62.528743\n",
        "\n",
        "\n",
        "# Extract coeficient\n",
        "coef_e401_DSlasso_all = obj_dml_pension_all.coef[0]"
      ],
      "metadata": {
        "colab": {
          "base_uri": "https://localhost:8080/"
        },
        "id": "DR_G6KwZxbfj",
        "outputId": "2808805c-8bf8-46d0-da1d-552c0007c6e5"
      },
      "execution_count": null,
      "outputs": [
        {
          "output_type": "stream",
          "name": "stdout",
          "text": [
            "================== DoubleMLPLR Object ==================\n",
            "\n",
            "------------------ Data summary      ------------------\n",
            "Outcome variable: net_tfa\n",
            "Treatment variable(s): ['e401']\n",
            "Covariates: ['a401', 'tw', 'tfa', 'nifa', 'net_nifa', 'net_n401', 'ira', 'inc', 'age', 'fsize', 'marr', 'pira', 'db', 'hown', 'educ', 'male', 'twoearn', 'nohs', 'hs', 'smcol', 'col', 'hmort', 'hequity', 'hval']\n",
            "Instrument variable(s): None\n",
            "No. Observations: 9915\n",
            "\n",
            "------------------ Score & algorithm ------------------\n",
            "Score function: partialling out\n",
            "\n",
            "------------------ Machine learner   ------------------\n",
            "Learner ml_l: Pipeline(steps=[('standardscaler', StandardScaler()),\n",
            "                ('lassocv', LassoCV(max_iter=100000))])\n",
            "Learner ml_m: Pipeline(steps=[('standardscaler', StandardScaler()),\n",
            "                ('lassocv', LassoCV(max_iter=100000))])\n",
            "Out-of-sample Performance:\n",
            "Regression:\n",
            "Learner ml_l RMSE: [[2359.0179791]]\n",
            "Learner ml_m RMSE: [[0.4204523]]\n",
            "\n",
            "------------------ Resampling        ------------------\n",
            "No. folds: 5\n",
            "No. repeated sample splits: 1\n",
            "\n",
            "------------------ Fit summary       ------------------\n",
            "           coef    std err         t     P>|t|       2.5 %     97.5 %\n",
            "e401 -38.227765  51.298099 -0.745208  0.456146 -138.770192  62.314662\n"
          ]
        }
      ]
    },
    {
      "cell_type": "markdown",
      "source": [
        "#### New comments:\n",
        "\n",
        "* Does this makes even sence?\n",
        "\n",
        "\n",
        "* Okey, let's not put all of the variables, but being less picky than in the OLS case:\n",
        "  * We take off anything 401k related\n",
        "  * We choose all in 'net' state\n",
        "  * We use education in continuous way"
      ],
      "metadata": {
        "id": "DYcUPZtizR9X"
      }
    },
    {
      "cell_type": "code",
      "source": [
        "# Using almost aour variables\n",
        "\n",
        "x_names_lp = [ 'tw', 'net_nifa', 'ira', 'inc', 'age', 'fsize', 'marr', 'pira', 'db',\n",
        "    'hown', 'educ', 'male', 'twoearn', 'hmort', 'hequity', 'hval'\n",
        "]\n",
        "\n",
        "\n",
        "\n",
        "# Generate object DoubleMLData less picky\n",
        "dml_pension_lp = DoubleMLData(pension,\n",
        "                          y_col='net_tfa',      # Dependent variable\n",
        "                          d_cols='e401',        # Treatment varible\n",
        "                          x_cols=x_names_lp)       # Covariates\n",
        "\n",
        "#double selection LASSO\n",
        "\n",
        "\n",
        "np.random.seed(42)\n",
        "obj_dml_pension_lp = DoubleMLPLR(dml_pension_lp, y_model, d_model)\n",
        "\n",
        "obj_dml_pension_lp.fit()\n",
        "\n",
        "#Show results\n",
        "print(obj_dml_pension_lp)\n",
        "\n",
        "#------------------ Fit summary       ------------------\n",
        "#             coef     std err          t          P>|t|        2.5 %  97.5 %\n",
        "# e401  8624.063695  349.124096  24.702001  1.017830e-134  7939.793041  9308.33435\n",
        "\n",
        "# Extract coeficient\n",
        "coef_e401_DSlasso_lp = obj_dml_pension_lp.coef[0]\n"
      ],
      "metadata": {
        "colab": {
          "base_uri": "https://localhost:8080/"
        },
        "id": "CyNSrcYXywDg",
        "outputId": "87d00239-fca6-454a-fd8d-7fc70bfdd042"
      },
      "execution_count": null,
      "outputs": [
        {
          "output_type": "stream",
          "name": "stdout",
          "text": [
            "================== DoubleMLPLR Object ==================\n",
            "\n",
            "------------------ Data summary      ------------------\n",
            "Outcome variable: net_tfa\n",
            "Treatment variable(s): ['e401']\n",
            "Covariates: ['tw', 'net_nifa', 'ira', 'inc', 'age', 'fsize', 'marr', 'pira', 'db', 'hown', 'educ', 'male', 'twoearn', 'hmort', 'hequity', 'hval']\n",
            "Instrument variable(s): None\n",
            "No. Observations: 9915\n",
            "\n",
            "------------------ Score & algorithm ------------------\n",
            "Score function: partialling out\n",
            "\n",
            "------------------ Machine learner   ------------------\n",
            "Learner ml_l: Pipeline(steps=[('standardscaler', StandardScaler()),\n",
            "                ('lassocv', LassoCV(max_iter=100000))])\n",
            "Learner ml_m: Pipeline(steps=[('standardscaler', StandardScaler()),\n",
            "                ('lassocv', LassoCV(max_iter=100000))])\n",
            "Out-of-sample Performance:\n",
            "Regression:\n",
            "Learner ml_l RMSE: [[11909.98680971]]\n",
            "Learner ml_m RMSE: [[0.44710693]]\n",
            "\n",
            "------------------ Resampling        ------------------\n",
            "No. folds: 5\n",
            "No. repeated sample splits: 1\n",
            "\n",
            "------------------ Fit summary       ------------------\n",
            "             coef     std err          t          P>|t|        2.5 %  \\\n",
            "e401  8624.063695  349.124096  24.702001  1.017830e-134  7939.793041   \n",
            "\n",
            "          97.5 %  \n",
            "e401  9308.33435  \n"
          ]
        }
      ]
    },
    {
      "cell_type": "markdown",
      "source": [
        "##### New new comments:\n",
        "* Now this looks more alike to what we have before.\n",
        "\n",
        "* But, I have really no ground argument to stablish that this new model is better than the OLS or previous used Double-selection LASSO; so I can not  more than that now the effect of elicitation to 401k on net financial assests seems to be (Ceteris paribus) an increase of 8624.06, in mean."
      ],
      "metadata": {
        "id": "EsVho0sC1qFc"
      }
    },
    {
      "cell_type": "markdown",
      "metadata": {
        "id": "p7npy_IzA1TO"
      },
      "source": [
        "## Double ML with RF"
      ]
    },
    {
      "cell_type": "code",
      "execution_count": null,
      "metadata": {
        "id": "kwvFy_PTg5iW",
        "colab": {
          "base_uri": "https://localhost:8080/"
        },
        "outputId": "35cecbee-46ae-4a59-b612-febc0b3599af"
      },
      "outputs": [
        {
          "output_type": "stream",
          "name": "stdout",
          "text": [
            "================== DoubleMLPLR Object ==================\n",
            "\n",
            "------------------ Data summary      ------------------\n",
            "Outcome variable: net_tfa\n",
            "Treatment variable(s): ['e401']\n",
            "Covariates: ['age', 'inc', 'twoearn', 'hequity', 'ira', 'db', 'educ']\n",
            "Instrument variable(s): None\n",
            "No. Observations: 9915\n",
            "\n",
            "------------------ Score & algorithm ------------------\n",
            "Score function: partialling out\n",
            "\n",
            "------------------ Machine learner   ------------------\n",
            "Learner ml_l: RandomForestRegressor()\n",
            "Learner ml_m: RandomForestRegressor()\n",
            "Out-of-sample Performance:\n",
            "Regression:\n",
            "Learner ml_l RMSE: [[55607.04864299]]\n",
            "Learner ml_m RMSE: [[0.46587556]]\n",
            "\n",
            "------------------ Resampling        ------------------\n",
            "No. folds: 5\n",
            "No. repeated sample splits: 1\n",
            "\n",
            "------------------ Fit summary       ------------------\n",
            "              coef     std err         t         P>|t|        2.5 %  \\\n",
            "e401  10507.169724  1287.24343  8.162535  3.280651e-16  7984.218962   \n",
            "\n",
            "            97.5 %  \n",
            "e401  13030.120485  \n"
          ]
        }
      ],
      "source": [
        "# Now Double ML for a more flexible specification:\n",
        "\n",
        "learner1 = clone(RandomForestRegressor())\n",
        "# learner = clone(RandomForestRegressor(n_estimators = 500, max_features = 'sqrt', max_depth= 5))\n",
        "\n",
        "y_model1 = learner1\n",
        "d_model1 = learner1\n",
        "\n",
        "\n",
        "np.random.seed(42)\n",
        "\n",
        "obj_dml_pension1 = DoubleMLPLR(dml_pension, y_model1, d_model1)\n",
        "\n",
        "obj_dml_pension1.fit()\n",
        "\n",
        "print(obj_dml_pension1)\n",
        "\n",
        "#------------------ Fit summary       ------------------\n",
        "#              coef     std err         t         P>|t|        2.5 %    97.5 %\n",
        "# e401  10507.169724  1287.24343  8.162535  3.280651e-16  7984.218962   13030.120485\n",
        "\n",
        "# Extract coeficient\n",
        "coef_e401_ML = obj_dml_pension1.coef[0]\n",
        "\n"
      ]
    },
    {
      "cell_type": "markdown",
      "metadata": {
        "id": "HCRSNukRV-8B"
      },
      "source": [
        "### Comments:\n",
        "\n",
        "In here what we are using is the same approach as before, but now our prediction dimension is not constrained by linearity and we can express relationships in a brouder manner (in our case this task will be performed by Random Forest).\n",
        "\n",
        "  * Now Double ML for a more flexible specification:\n",
        "\\begin{aligned}\n",
        "Y &=& \\tau D+g(X) + \\varepsilon \\\\\n",
        "D &=& m(X) + v,\n",
        "\\end{aligned}\n",
        "\n",
        "    * where $g(X)$ and $m(X)$ can be any general function (not only linear on $X$).\n",
        "\n",
        " ~ From class notebook\n",
        "\n",
        " But again I have no clue of which model is better in terms of approaching more accurately the causal effect of e401 on net_tfa.\n",
        "\n",
        " Anyway following same view as before i would like to introduce more variables and see what happen (in particular I'll use same varibales selection as in the 'less-picky' model) which my intuition says is the one that really exploit the double lasso selection:"
      ]
    },
    {
      "cell_type": "code",
      "source": [
        "# Now Double ML for a more flexible specification:\n",
        "\n",
        "np.random.seed(42)\n",
        "\n",
        "obj_dml_pension1_lp = DoubleMLPLR(dml_pension_lp, y_model1, d_model1)\n",
        "\n",
        "obj_dml_pension1_lp.fit()\n",
        "\n",
        "print(obj_dml_pension1_lp)\n",
        "\n",
        "#------------------ Fit summary       ------------------\n",
        "#              coef     std err         t         P>|t|        2.5 %    97.5 %\n",
        "# e401  7887.459235  296.23971  26.62526  3.462488e-156  7306.840073    8468.078397\n",
        "\n",
        "# Extract coeficient\n",
        "coef_e401_ML_lp = obj_dml_pension1_lp.coef[0]"
      ],
      "metadata": {
        "colab": {
          "base_uri": "https://localhost:8080/"
        },
        "id": "mxk_VAYE3Uvc",
        "outputId": "62be2c69-db65-4d93-ce78-4bd3f38f4fad"
      },
      "execution_count": null,
      "outputs": [
        {
          "output_type": "stream",
          "name": "stdout",
          "text": [
            "================== DoubleMLPLR Object ==================\n",
            "\n",
            "------------------ Data summary      ------------------\n",
            "Outcome variable: net_tfa\n",
            "Treatment variable(s): ['e401']\n",
            "Covariates: ['tw', 'net_nifa', 'ira', 'inc', 'age', 'fsize', 'marr', 'pira', 'db', 'hown', 'educ', 'male', 'twoearn', 'hmort', 'hequity', 'hval']\n",
            "Instrument variable(s): None\n",
            "No. Observations: 9915\n",
            "\n",
            "------------------ Score & algorithm ------------------\n",
            "Score function: partialling out\n",
            "\n",
            "------------------ Machine learner   ------------------\n",
            "Learner ml_l: RandomForestRegressor()\n",
            "Learner ml_m: RandomForestRegressor()\n",
            "Out-of-sample Performance:\n",
            "Regression:\n",
            "Learner ml_l RMSE: [[12886.30779525]]\n",
            "Learner ml_m RMSE: [[0.44851789]]\n",
            "\n",
            "------------------ Resampling        ------------------\n",
            "No. folds: 5\n",
            "No. repeated sample splits: 1\n",
            "\n",
            "------------------ Fit summary       ------------------\n",
            "             coef    std err         t          P>|t|        2.5 %  \\\n",
            "e401  7887.459235  296.23971  26.62526  3.462488e-156  7306.840073   \n",
            "\n",
            "           97.5 %  \n",
            "e401  8468.078397  \n"
          ]
        }
      ]
    },
    {
      "cell_type": "markdown",
      "source": [
        "### Summary Table:\n",
        "\n"
      ],
      "metadata": {
        "id": "OTz9l8-H6BL8"
      }
    },
    {
      "cell_type": "code",
      "source": [
        "sum_t = {'OLS' : coef_e401_OLS, 'Double-Selection LASSO': coef_e401_DSlasso,\n",
        "         'Double-Selectio LASSO (aug.)': coef_e401_DSlasso_lp, 'Double ML': coef_e401_ML, 'Double ML (aug.)': coef_e401_ML_lp}\n",
        "\n",
        "\n",
        "df_sum = pd.DataFrame(sum_t,index=['e401']).transpose()\n",
        "\n",
        "print(tabulate(df_sum.round(2), headers=\"keys\", tablefmt=\"pretty\",showindex=True))"
      ],
      "metadata": {
        "colab": {
          "base_uri": "https://localhost:8080/"
        },
        "id": "pDueTXmw6Dt9",
        "outputId": "b229a4ad-60fa-49e5-bc2d-dbe9a6ee75da"
      },
      "execution_count": null,
      "outputs": [
        {
          "output_type": "stream",
          "name": "stdout",
          "text": [
            "+------------------------------+----------+\n",
            "|                              |   e401   |\n",
            "+------------------------------+----------+\n",
            "|             OLS              | 6711.42  |\n",
            "|    Double-Selection LASSO    |  -38.23  |\n",
            "| Double-Selectio LASSO (aug.) | 8624.06  |\n",
            "|          Double ML           | 10507.17 |\n",
            "|       Double ML (aug.)       | 7887.46  |\n",
            "+------------------------------+----------+\n"
          ]
        }
      ]
    }
  ],
  "metadata": {
    "colab": {
      "provenance": []
    },
    "kernelspec": {
      "display_name": "Python 3",
      "name": "python3"
    }
  },
  "nbformat": 4,
  "nbformat_minor": 0
}